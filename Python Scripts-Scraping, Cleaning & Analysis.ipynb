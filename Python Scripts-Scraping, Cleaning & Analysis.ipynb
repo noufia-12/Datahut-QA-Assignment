{
 "cells": [
  {
   "cell_type": "code",
   "execution_count": 1,
   "id": "0a93f7ea-9860-4c8e-827e-71a4800aa70a",
   "metadata": {},
   "outputs": [],
   "source": [
    "import pandas as pd\n",
    "from bs4 import BeautifulSoup\n",
    "import requests\n",
    "import csv\n",
    "import re\n",
    "import time"
   ]
  },
  {
   "cell_type": "markdown",
   "id": "5c7c34ec-6b2f-466e-a830-7a168329cb1d",
   "metadata": {},
   "source": [
    "### Scraping Data From Amazon"
   ]
  },
  {
   "cell_type": "code",
   "execution_count": 2,
   "id": "820fb4ff-7ebb-42af-9d24-104a593c5909",
   "metadata": {},
   "outputs": [],
   "source": [
    "url = \"https://www.amazon.in/s?i=apparel&bbn=206866169031&rh=n%3A1968255031%2Cp_85%3A10440599031%2Cp_36%3A-51000%2Cp_72%3A1318476031&s=review-rank&dc&hidden-keywords=-sponsored&ds=v1%3AvpJJ4RLmx4hQZe46icqqhxZVE2kFGE4o5RPBHzrq0Uo&pf_rd_i=1968253031&pf_rd_m=A1VBAL9TL5WCBF&pf_rd_p=f3a63277-7044-4783-a050-f67036bcca9c&pf_rd_r=AZ8CPNJGPX9EWVR3EAY2&pf_rd_s=merchandised-search-3&qid=1750863137&rnid=1318475031&ref=sr_nr_p_72_1\""
   ]
  },
  {
   "cell_type": "code",
   "execution_count": 3,
   "id": "af03f97d-3b22-42fd-8832-f6e5d87e5615",
   "metadata": {},
   "outputs": [],
   "source": [
    "header = ({\"User-Agent\" :\"Mozilla/5.0 (Windows NT 10.0; Win64; x64) AppleWebKit/537.36 (KHTML, like Gecko) Chrome/139.0.0.0 Safari/537.36\", \"Accept-Language\" :'en-US,en;q=0.5'})"
   ]
  },
  {
   "cell_type": "code",
   "execution_count": 4,
   "id": "c20d62bd-e8ea-4b0f-aac0-35a108541722",
   "metadata": {},
   "outputs": [
    {
     "name": "stdout",
     "output_type": "stream",
     "text": [
      "Scraping page 1...\n",
      "Scraping page 2...\n",
      "Scraping page 3...\n",
      "Scraping page 4...\n",
      "Scraping page 5...\n",
      "Scraping page 6...\n",
      "Scraping page 7...\n",
      "Scraping page 8...\n",
      "Scraping page 9...\n",
      "Scraping page 10...\n"
     ]
    }
   ],
   "source": [
    "with open(\"amazon_products.csv\", \"w\", newline=\"\", encoding=\"utf-8\") as file:\n",
    "    writer = csv.writer(file)\n",
    "    writer.writerow([\"Product Name\", \"Price\", \"Brand Name\", \"Category\", \"MRP\", \"Rating\", \"Reviews\", \"Product URL\"])\n",
    "\n",
    "# Loop through pages \n",
    "    for page in range(1, 11):\n",
    "        print(f\"Scraping page {page}...\")\n",
    "        paged_url = url + f\"&page={page}\"\n",
    "        webpage = requests.get(paged_url, headers=header)\n",
    "        soup = BeautifulSoup(webpage.content, \"html.parser\")\n",
    "\n",
    "        links = soup.find_all(\"a\", attrs={'class': \"a-link-normal s-line-clamp-2 s-line-clamp-3-for-col-12 s-link-style a-text-normal\"})\n",
    "        \n",
    "        for a in links:\n",
    "            link = a.get('href')\n",
    "            if not link:\n",
    "                continue\n",
    "\n",
    "            product_url = \"https://www.amazon.in\" + link\n",
    "            new_webpage = requests.get(product_url, headers=header)\n",
    "            new_soup = BeautifulSoup(new_webpage.content, \"html.parser\")\n",
    "\n",
    "# Product Name\n",
    "            try:\n",
    "                Product = new_soup.find(\"span\", attrs={\"id\": \"productTitle\"}).text.strip()\n",
    "            except:\n",
    "                Product = \"N/A\"\n",
    "\n",
    "# Sale Price\n",
    "            try:\n",
    "                Sale_price = new_soup.find(\"span\", attrs={\"class\": \"a-price-whole\"}).text.strip()\n",
    "            except:\n",
    "                Sale_price = \"N/A\"\n",
    "\n",
    "# Brand\n",
    "            try:\n",
    "                brand_tag = new_soup.find(\"a\", attrs={\"id\": \"bylineInfo\"})\n",
    "                if brand_tag:\n",
    "                    Brand = brand_tag.text.strip()\n",
    "                    Brand = Brand.replace(\"Visit the\", \"\").replace(\"Store\", \"\").replace(\"Brand:\", \"\").strip()\n",
    "                else:\n",
    "                    Brand = \"N/A\"\n",
    "            except:\n",
    "                Brand = \"N/A\"\n",
    "\n",
    "# MRP\n",
    "            try:\n",
    "                MRP = new_soup.find(\"span\", attrs={\"class\": \"a-price a-text-price\"}).find(\"span\", class_=\"a-offscreen\").text.strip()\n",
    "                MRP = re.sub(r\"[^\\d.]\", \"\", MRP)\n",
    "            except:\n",
    "                MRP = \"N/A\"\n",
    "\n",
    "# Rating\n",
    "            try:\n",
    "                Rating = new_soup.find(\"span\", attrs={'class': \"a-icon-alt\"}).text.strip()\n",
    "                Rating = re.search(r\"[\\d.]+\", Rating).group()\n",
    "            except:\n",
    "                Rating = \"N/A\"\n",
    "\n",
    "# Category\n",
    "            try:\n",
    "                category_links = new_soup.find_all(\"a\", attrs={\"class\": \"a-link-normal a-color-tertiary\"})\n",
    "                if category_links:\n",
    "                    Category = category_links[-1].text.strip()\n",
    "                else:\n",
    "                    Category = \"N/A\"\n",
    "            except:\n",
    "                Category = \"N/A\"\n",
    "\n",
    "# Reviews\n",
    "            try:\n",
    "                review_span = new_soup.find(\"span\", attrs={'id': 'acrCustomerReviewText'})\n",
    "                if review_span:\n",
    "                    Reviews = re.sub(r\"\\D\", \"\", review_span.get(\"aria-label\", review_span.text))\n",
    "                else:\n",
    "                    Reviews = \"N/A\"\n",
    "            except:\n",
    "                Reviews = \"N/A\"\n",
    "\n",
    "            writer.writerow([Product, Sale_price, Brand, Category, MRP, Rating, Reviews, product_url])\n",
    "            \n",
    "            time.sleep(1) "
   ]
  },
  {
   "cell_type": "markdown",
   "id": "b2b8738e-a91c-45a6-869f-a25f52e6d3fc",
   "metadata": {},
   "source": [
    "### Data "
   ]
  },
  {
   "cell_type": "code",
   "execution_count": 2,
   "id": "ed72bea2-d4d4-4555-945f-aa5b6fa05770",
   "metadata": {},
   "outputs": [
    {
     "data": {
      "text/html": [
       "<div>\n",
       "<style scoped>\n",
       "    .dataframe tbody tr th:only-of-type {\n",
       "        vertical-align: middle;\n",
       "    }\n",
       "\n",
       "    .dataframe tbody tr th {\n",
       "        vertical-align: top;\n",
       "    }\n",
       "\n",
       "    .dataframe thead th {\n",
       "        text-align: right;\n",
       "    }\n",
       "</style>\n",
       "<table border=\"1\" class=\"dataframe\">\n",
       "  <thead>\n",
       "    <tr style=\"text-align: right;\">\n",
       "      <th></th>\n",
       "      <th>Product Name</th>\n",
       "      <th>Price</th>\n",
       "      <th>Brand Name</th>\n",
       "      <th>Category</th>\n",
       "      <th>MRP</th>\n",
       "      <th>Rating</th>\n",
       "      <th>Reviews</th>\n",
       "      <th>Product URL</th>\n",
       "    </tr>\n",
       "  </thead>\n",
       "  <tbody>\n",
       "    <tr>\n",
       "      <th>0</th>\n",
       "      <td>Leriya Fashion Women's Rayon Viscose Straight ...</td>\n",
       "      <td>509.0</td>\n",
       "      <td>Leriya Fashion</td>\n",
       "      <td>Kurtas &amp; Kurtis</td>\n",
       "      <td>1999.0</td>\n",
       "      <td>4.9</td>\n",
       "      <td>64.0</td>\n",
       "      <td>https://www.amazon.in/Leriya-Fashion-LF-W-Kurt...</td>\n",
       "    </tr>\n",
       "    <tr>\n",
       "      <th>1</th>\n",
       "      <td>VastraVibes Women's Cotton Blend Printed Regul...</td>\n",
       "      <td>444.0</td>\n",
       "      <td>VastraVibes</td>\n",
       "      <td>Kurtas &amp; Kurtis</td>\n",
       "      <td>1999.0</td>\n",
       "      <td>4.9</td>\n",
       "      <td>43.0</td>\n",
       "      <td>https://www.amazon.in/VastraVibes-Printed-kurt...</td>\n",
       "    </tr>\n",
       "    <tr>\n",
       "      <th>2</th>\n",
       "      <td>Leriya Fashion Women’s Sleeveless Rayon Kurta ...</td>\n",
       "      <td>479.0</td>\n",
       "      <td>Leriya Fashion</td>\n",
       "      <td>Kurtas &amp; Kurtis</td>\n",
       "      <td>1999.0</td>\n",
       "      <td>4.8</td>\n",
       "      <td>80.0</td>\n",
       "      <td>https://www.amazon.in/Leriya-Fashion-LF-W-Kurt...</td>\n",
       "    </tr>\n",
       "    <tr>\n",
       "      <th>3</th>\n",
       "      <td>SHIENZY Cotton Blend Kurta Pant Set for Women ...</td>\n",
       "      <td>499.0</td>\n",
       "      <td>SHIENZY</td>\n",
       "      <td>Kurtas &amp; Kurtis</td>\n",
       "      <td>3499.0</td>\n",
       "      <td>4.7</td>\n",
       "      <td>106.0</td>\n",
       "      <td>https://www.amazon.in/SHIENZY-Cotton-Teardrop-...</td>\n",
       "    </tr>\n",
       "    <tr>\n",
       "      <th>4</th>\n",
       "      <td>LERIYA FASHION Anarkali Kurta-Set for Women – ...</td>\n",
       "      <td>439.0</td>\n",
       "      <td>Leriya Fashion</td>\n",
       "      <td>Kurtas &amp; Kurtis</td>\n",
       "      <td>1999.0</td>\n",
       "      <td>4.8</td>\n",
       "      <td>30.0</td>\n",
       "      <td>https://www.amazon.in/Leriya-Fashion-Printed-L...</td>\n",
       "    </tr>\n",
       "  </tbody>\n",
       "</table>\n",
       "</div>"
      ],
      "text/plain": [
       "                                        Product Name  Price      Brand Name  \\\n",
       "0  Leriya Fashion Women's Rayon Viscose Straight ...  509.0  Leriya Fashion   \n",
       "1  VastraVibes Women's Cotton Blend Printed Regul...  444.0     VastraVibes   \n",
       "2  Leriya Fashion Women’s Sleeveless Rayon Kurta ...  479.0  Leriya Fashion   \n",
       "3  SHIENZY Cotton Blend Kurta Pant Set for Women ...  499.0         SHIENZY   \n",
       "4  LERIYA FASHION Anarkali Kurta-Set for Women – ...  439.0  Leriya Fashion   \n",
       "\n",
       "          Category     MRP  Rating  Reviews  \\\n",
       "0  Kurtas & Kurtis  1999.0     4.9     64.0   \n",
       "1  Kurtas & Kurtis  1999.0     4.9     43.0   \n",
       "2  Kurtas & Kurtis  1999.0     4.8     80.0   \n",
       "3  Kurtas & Kurtis  3499.0     4.7    106.0   \n",
       "4  Kurtas & Kurtis  1999.0     4.8     30.0   \n",
       "\n",
       "                                         Product URL  \n",
       "0  https://www.amazon.in/Leriya-Fashion-LF-W-Kurt...  \n",
       "1  https://www.amazon.in/VastraVibes-Printed-kurt...  \n",
       "2  https://www.amazon.in/Leriya-Fashion-LF-W-Kurt...  \n",
       "3  https://www.amazon.in/SHIENZY-Cotton-Teardrop-...  \n",
       "4  https://www.amazon.in/Leriya-Fashion-Printed-L...  "
      ]
     },
     "execution_count": 2,
     "metadata": {},
     "output_type": "execute_result"
    }
   ],
   "source": [
    "data = pd.read_csv(\"amazon_products.csv\")\n",
    "data.head()"
   ]
  },
  {
   "cell_type": "code",
   "execution_count": 3,
   "id": "8e6f90d1-7af7-4c04-8487-a185319a90bc",
   "metadata": {},
   "outputs": [],
   "source": [
    "# Discount percentage\n",
    "\n",
    "data[\"Discount_percent\"] = ((data[\"MRP\"] - data[\"Price\"])/data[\"MRP\"])*100\n",
    "data[\"Discount_percent\"] = data[\"Discount_percent\"].round(2)"
   ]
  },
  {
   "cell_type": "code",
   "execution_count": 4,
   "id": "00d49a3d-e743-4d3f-8a41-e7db8e98d053",
   "metadata": {},
   "outputs": [],
   "source": [
    "# remove product discount percent less than 0\n",
    "data = data[data['Discount_percent'] >= 0]"
   ]
  },
  {
   "cell_type": "code",
   "execution_count": 5,
   "id": "d86ca1ba-e5cb-4b55-b1a3-e92a057b43e0",
   "metadata": {},
   "outputs": [
    {
     "data": {
      "text/plain": [
       "(478, 9)"
      ]
     },
     "execution_count": 5,
     "metadata": {},
     "output_type": "execute_result"
    }
   ],
   "source": [
    "data.shape"
   ]
  },
  {
   "cell_type": "code",
   "execution_count": 6,
   "id": "6bdcc636-a885-4b38-a391-ad17a85cfd85",
   "metadata": {},
   "outputs": [
    {
     "name": "stdout",
     "output_type": "stream",
     "text": [
      "<class 'pandas.core.frame.DataFrame'>\n",
      "Index: 478 entries, 0 to 479\n",
      "Data columns (total 9 columns):\n",
      " #   Column            Non-Null Count  Dtype  \n",
      "---  ------            --------------  -----  \n",
      " 0   Product Name      478 non-null    object \n",
      " 1   Price             478 non-null    float64\n",
      " 2   Brand Name        478 non-null    object \n",
      " 3   Category          478 non-null    object \n",
      " 4   MRP               478 non-null    float64\n",
      " 5   Rating            476 non-null    float64\n",
      " 6   Reviews           476 non-null    float64\n",
      " 7   Product URL       478 non-null    object \n",
      " 8   Discount_percent  478 non-null    float64\n",
      "dtypes: float64(5), object(4)\n",
      "memory usage: 37.3+ KB\n"
     ]
    }
   ],
   "source": [
    "data.info()"
   ]
  },
  {
   "cell_type": "code",
   "execution_count": 7,
   "id": "f6012ac7-00b5-4ffc-897d-0649597f0251",
   "metadata": {},
   "outputs": [
    {
     "data": {
      "text/plain": [
       "Product Name        0\n",
       "Price               0\n",
       "Brand Name          0\n",
       "Category            0\n",
       "MRP                 0\n",
       "Rating              2\n",
       "Reviews             2\n",
       "Product URL         0\n",
       "Discount_percent    0\n",
       "dtype: int64"
      ]
     },
     "execution_count": 7,
     "metadata": {},
     "output_type": "execute_result"
    }
   ],
   "source": [
    "# Sum of missing values in each column\n",
    "\n",
    "data.isnull().sum()"
   ]
  },
  {
   "cell_type": "code",
   "execution_count": 8,
   "id": "a4255250-f781-49da-a437-a80028eea428",
   "metadata": {},
   "outputs": [],
   "source": [
    "# Drop missing values\n",
    "\n",
    "data.dropna(subset=[\"Rating\",\"Reviews\"], inplace=True)"
   ]
  },
  {
   "cell_type": "code",
   "execution_count": 9,
   "id": "33e907ae-916b-4478-b9e1-8329dc2beada",
   "metadata": {},
   "outputs": [
    {
     "name": "stdout",
     "output_type": "stream",
     "text": [
      "Duplicate values: 0\n"
     ]
    }
   ],
   "source": [
    "print(\"Duplicate values:\",data.duplicated().sum())"
   ]
  },
  {
   "cell_type": "code",
   "execution_count": 10,
   "id": "991f8123-6622-49a4-8adc-a685ed3caa4a",
   "metadata": {},
   "outputs": [
    {
     "data": {
      "text/plain": [
       "Product Name         object\n",
       "Price               float64\n",
       "Brand Name           object\n",
       "Category             object\n",
       "MRP                 float64\n",
       "Rating              float64\n",
       "Reviews             float64\n",
       "Product URL          object\n",
       "Discount_percent    float64\n",
       "dtype: object"
      ]
     },
     "execution_count": 10,
     "metadata": {},
     "output_type": "execute_result"
    }
   ],
   "source": [
    "data.dtypes"
   ]
  },
  {
   "cell_type": "code",
   "execution_count": 11,
   "id": "161cc446-4540-4807-8f6e-a0a82c5dd289",
   "metadata": {},
   "outputs": [],
   "source": [
    "# Save the cleaned data\n",
    "\n",
    "data.to_csv(\"Amazon_Products_cleaned.csv\", index=False)"
   ]
  },
  {
   "cell_type": "code",
   "execution_count": 12,
   "id": "15ae69fc-36f6-405d-aa51-df1f31206401",
   "metadata": {},
   "outputs": [
    {
     "data": {
      "text/plain": [
       "(476, 9)"
      ]
     },
     "execution_count": 12,
     "metadata": {},
     "output_type": "execute_result"
    }
   ],
   "source": [
    "data.shape"
   ]
  },
  {
   "cell_type": "code",
   "execution_count": 13,
   "id": "550d22bd-b8a0-4634-8e43-58fabfcda64d",
   "metadata": {},
   "outputs": [
    {
     "data": {
      "text/html": [
       "<div>\n",
       "<style scoped>\n",
       "    .dataframe tbody tr th:only-of-type {\n",
       "        vertical-align: middle;\n",
       "    }\n",
       "\n",
       "    .dataframe tbody tr th {\n",
       "        vertical-align: top;\n",
       "    }\n",
       "\n",
       "    .dataframe thead th {\n",
       "        text-align: right;\n",
       "    }\n",
       "</style>\n",
       "<table border=\"1\" class=\"dataframe\">\n",
       "  <thead>\n",
       "    <tr style=\"text-align: right;\">\n",
       "      <th></th>\n",
       "      <th>Product Name</th>\n",
       "      <th>Price</th>\n",
       "      <th>Brand Name</th>\n",
       "      <th>Category</th>\n",
       "      <th>MRP</th>\n",
       "      <th>Rating</th>\n",
       "      <th>Reviews</th>\n",
       "      <th>Product URL</th>\n",
       "      <th>Discount_percent</th>\n",
       "    </tr>\n",
       "  </thead>\n",
       "  <tbody>\n",
       "    <tr>\n",
       "      <th>0</th>\n",
       "      <td>Leriya Fashion Women's Rayon Viscose Straight ...</td>\n",
       "      <td>509.0</td>\n",
       "      <td>Leriya Fashion</td>\n",
       "      <td>Kurtas &amp; Kurtis</td>\n",
       "      <td>1999.0</td>\n",
       "      <td>4.9</td>\n",
       "      <td>64.0</td>\n",
       "      <td>https://www.amazon.in/Leriya-Fashion-LF-W-Kurt...</td>\n",
       "      <td>74.54</td>\n",
       "    </tr>\n",
       "    <tr>\n",
       "      <th>1</th>\n",
       "      <td>VastraVibes Women's Cotton Blend Printed Regul...</td>\n",
       "      <td>444.0</td>\n",
       "      <td>VastraVibes</td>\n",
       "      <td>Kurtas &amp; Kurtis</td>\n",
       "      <td>1999.0</td>\n",
       "      <td>4.9</td>\n",
       "      <td>43.0</td>\n",
       "      <td>https://www.amazon.in/VastraVibes-Printed-kurt...</td>\n",
       "      <td>77.79</td>\n",
       "    </tr>\n",
       "    <tr>\n",
       "      <th>2</th>\n",
       "      <td>Leriya Fashion Women’s Sleeveless Rayon Kurta ...</td>\n",
       "      <td>479.0</td>\n",
       "      <td>Leriya Fashion</td>\n",
       "      <td>Kurtas &amp; Kurtis</td>\n",
       "      <td>1999.0</td>\n",
       "      <td>4.8</td>\n",
       "      <td>80.0</td>\n",
       "      <td>https://www.amazon.in/Leriya-Fashion-LF-W-Kurt...</td>\n",
       "      <td>76.04</td>\n",
       "    </tr>\n",
       "    <tr>\n",
       "      <th>3</th>\n",
       "      <td>SHIENZY Cotton Blend Kurta Pant Set for Women ...</td>\n",
       "      <td>499.0</td>\n",
       "      <td>SHIENZY</td>\n",
       "      <td>Kurtas &amp; Kurtis</td>\n",
       "      <td>3499.0</td>\n",
       "      <td>4.7</td>\n",
       "      <td>106.0</td>\n",
       "      <td>https://www.amazon.in/SHIENZY-Cotton-Teardrop-...</td>\n",
       "      <td>85.74</td>\n",
       "    </tr>\n",
       "    <tr>\n",
       "      <th>4</th>\n",
       "      <td>LERIYA FASHION Anarkali Kurta-Set for Women – ...</td>\n",
       "      <td>439.0</td>\n",
       "      <td>Leriya Fashion</td>\n",
       "      <td>Kurtas &amp; Kurtis</td>\n",
       "      <td>1999.0</td>\n",
       "      <td>4.8</td>\n",
       "      <td>30.0</td>\n",
       "      <td>https://www.amazon.in/Leriya-Fashion-Printed-L...</td>\n",
       "      <td>78.04</td>\n",
       "    </tr>\n",
       "  </tbody>\n",
       "</table>\n",
       "</div>"
      ],
      "text/plain": [
       "                                        Product Name  Price      Brand Name  \\\n",
       "0  Leriya Fashion Women's Rayon Viscose Straight ...  509.0  Leriya Fashion   \n",
       "1  VastraVibes Women's Cotton Blend Printed Regul...  444.0     VastraVibes   \n",
       "2  Leriya Fashion Women’s Sleeveless Rayon Kurta ...  479.0  Leriya Fashion   \n",
       "3  SHIENZY Cotton Blend Kurta Pant Set for Women ...  499.0         SHIENZY   \n",
       "4  LERIYA FASHION Anarkali Kurta-Set for Women – ...  439.0  Leriya Fashion   \n",
       "\n",
       "          Category     MRP  Rating  Reviews  \\\n",
       "0  Kurtas & Kurtis  1999.0     4.9     64.0   \n",
       "1  Kurtas & Kurtis  1999.0     4.9     43.0   \n",
       "2  Kurtas & Kurtis  1999.0     4.8     80.0   \n",
       "3  Kurtas & Kurtis  3499.0     4.7    106.0   \n",
       "4  Kurtas & Kurtis  1999.0     4.8     30.0   \n",
       "\n",
       "                                         Product URL  Discount_percent  \n",
       "0  https://www.amazon.in/Leriya-Fashion-LF-W-Kurt...             74.54  \n",
       "1  https://www.amazon.in/VastraVibes-Printed-kurt...             77.79  \n",
       "2  https://www.amazon.in/Leriya-Fashion-LF-W-Kurt...             76.04  \n",
       "3  https://www.amazon.in/SHIENZY-Cotton-Teardrop-...             85.74  \n",
       "4  https://www.amazon.in/Leriya-Fashion-Printed-L...             78.04  "
      ]
     },
     "execution_count": 13,
     "metadata": {},
     "output_type": "execute_result"
    }
   ],
   "source": [
    "data.head()"
   ]
  },
  {
   "cell_type": "markdown",
   "id": "f6360149-33d9-4f59-bf98-11b24c1027ab",
   "metadata": {},
   "source": [
    "### Data Analysis"
   ]
  },
  {
   "cell_type": "code",
   "execution_count": 14,
   "id": "1f7e2755-8cf0-46a4-9ec6-50fc46d11a24",
   "metadata": {},
   "outputs": [
    {
     "data": {
      "text/html": [
       "<div>\n",
       "<style scoped>\n",
       "    .dataframe tbody tr th:only-of-type {\n",
       "        vertical-align: middle;\n",
       "    }\n",
       "\n",
       "    .dataframe tbody tr th {\n",
       "        vertical-align: top;\n",
       "    }\n",
       "\n",
       "    .dataframe thead th {\n",
       "        text-align: right;\n",
       "    }\n",
       "</style>\n",
       "<table border=\"1\" class=\"dataframe\">\n",
       "  <thead>\n",
       "    <tr style=\"text-align: right;\">\n",
       "      <th></th>\n",
       "      <th>Price</th>\n",
       "      <th>MRP</th>\n",
       "      <th>Rating</th>\n",
       "      <th>Reviews</th>\n",
       "      <th>Discount_percent</th>\n",
       "    </tr>\n",
       "  </thead>\n",
       "  <tbody>\n",
       "    <tr>\n",
       "      <th>count</th>\n",
       "      <td>476.000000</td>\n",
       "      <td>476.000000</td>\n",
       "      <td>476.000000</td>\n",
       "      <td>476.000000</td>\n",
       "      <td>476.000000</td>\n",
       "    </tr>\n",
       "    <tr>\n",
       "      <th>mean</th>\n",
       "      <td>444.008403</td>\n",
       "      <td>1829.464286</td>\n",
       "      <td>4.286555</td>\n",
       "      <td>195.350840</td>\n",
       "      <td>70.118782</td>\n",
       "    </tr>\n",
       "    <tr>\n",
       "      <th>std</th>\n",
       "      <td>67.985354</td>\n",
       "      <td>818.565333</td>\n",
       "      <td>0.303294</td>\n",
       "      <td>828.656951</td>\n",
       "      <td>16.394482</td>\n",
       "    </tr>\n",
       "    <tr>\n",
       "      <th>min</th>\n",
       "      <td>199.000000</td>\n",
       "      <td>499.000000</td>\n",
       "      <td>3.900000</td>\n",
       "      <td>3.000000</td>\n",
       "      <td>9.110000</td>\n",
       "    </tr>\n",
       "    <tr>\n",
       "      <th>25%</th>\n",
       "      <td>399.000000</td>\n",
       "      <td>1249.000000</td>\n",
       "      <td>4.000000</td>\n",
       "      <td>8.000000</td>\n",
       "      <td>65.045000</td>\n",
       "    </tr>\n",
       "    <tr>\n",
       "      <th>50%</th>\n",
       "      <td>474.000000</td>\n",
       "      <td>1825.000000</td>\n",
       "      <td>4.200000</td>\n",
       "      <td>21.000000</td>\n",
       "      <td>75.040000</td>\n",
       "    </tr>\n",
       "    <tr>\n",
       "      <th>75%</th>\n",
       "      <td>499.000000</td>\n",
       "      <td>2250.000000</td>\n",
       "      <td>4.500000</td>\n",
       "      <td>74.750000</td>\n",
       "      <td>80.800000</td>\n",
       "    </tr>\n",
       "    <tr>\n",
       "      <th>max</th>\n",
       "      <td>509.000000</td>\n",
       "      <td>4999.000000</td>\n",
       "      <td>5.000000</td>\n",
       "      <td>10120.000000</td>\n",
       "      <td>93.020000</td>\n",
       "    </tr>\n",
       "  </tbody>\n",
       "</table>\n",
       "</div>"
      ],
      "text/plain": [
       "            Price          MRP      Rating       Reviews  Discount_percent\n",
       "count  476.000000   476.000000  476.000000    476.000000        476.000000\n",
       "mean   444.008403  1829.464286    4.286555    195.350840         70.118782\n",
       "std     67.985354   818.565333    0.303294    828.656951         16.394482\n",
       "min    199.000000   499.000000    3.900000      3.000000          9.110000\n",
       "25%    399.000000  1249.000000    4.000000      8.000000         65.045000\n",
       "50%    474.000000  1825.000000    4.200000     21.000000         75.040000\n",
       "75%    499.000000  2250.000000    4.500000     74.750000         80.800000\n",
       "max    509.000000  4999.000000    5.000000  10120.000000         93.020000"
      ]
     },
     "execution_count": 14,
     "metadata": {},
     "output_type": "execute_result"
    }
   ],
   "source": [
    "# Find Descriptive statistics\n",
    "\n",
    "data.describe()"
   ]
  },
  {
   "cell_type": "code",
   "execution_count": 15,
   "id": "32a3e256-00ab-4a13-a59e-11b8816eb212",
   "metadata": {},
   "outputs": [
    {
     "data": {
      "text/plain": [
       "Brand Name\n",
       "Max                  28\n",
       "Generic              26\n",
       "JAIPUR HAND BLOCK    12\n",
       "LIBOZA               12\n",
       "ANNI DESIGNER        12\n",
       "Name: count, dtype: int64"
      ]
     },
     "execution_count": 15,
     "metadata": {},
     "output_type": "execute_result"
    }
   ],
   "source": [
    "# Top 5 brands\n",
    "\n",
    "top_brands = data[\"Brand Name\"].value_counts().head(5)\n",
    "top_brands"
   ]
  },
  {
   "cell_type": "code",
   "execution_count": 16,
   "id": "ffb82d38-b7b1-4994-94be-b0fc667d459f",
   "metadata": {},
   "outputs": [
    {
     "data": {
      "text/plain": [
       "Brand Name\n",
       "FABNEX      89.7100\n",
       "INDO ERA    89.0825\n",
       "Kalaanj     89.0200\n",
       "Manojava    88.1500\n",
       "Hritika     86.8200\n",
       "Name: Discount_percent, dtype: float64"
      ]
     },
     "execution_count": 16,
     "metadata": {},
     "output_type": "execute_result"
    }
   ],
   "source": [
    "#brands which give the highest average discount\n",
    "\n",
    "brand_discount = data.groupby('Brand Name')['Discount_percent'].mean().sort_values(ascending=False)\n",
    "brand_discount.head()"
   ]
  },
  {
   "cell_type": "code",
   "execution_count": 17,
   "id": "01f8eae0-ec6f-4437-b463-61c10f651c60",
   "metadata": {},
   "outputs": [
    {
     "data": {
      "text/html": [
       "<div>\n",
       "<style scoped>\n",
       "    .dataframe tbody tr th:only-of-type {\n",
       "        vertical-align: middle;\n",
       "    }\n",
       "\n",
       "    .dataframe tbody tr th {\n",
       "        vertical-align: top;\n",
       "    }\n",
       "\n",
       "    .dataframe thead th {\n",
       "        text-align: right;\n",
       "    }\n",
       "</style>\n",
       "<table border=\"1\" class=\"dataframe\">\n",
       "  <thead>\n",
       "    <tr style=\"text-align: right;\">\n",
       "      <th></th>\n",
       "      <th>Product Name</th>\n",
       "      <th>Price</th>\n",
       "    </tr>\n",
       "  </thead>\n",
       "  <tbody>\n",
       "    <tr>\n",
       "      <th>83</th>\n",
       "      <td>MF Hayat Women Ladies Rayon Embroidery Casul S...</td>\n",
       "      <td>199.0</td>\n",
       "    </tr>\n",
       "  </tbody>\n",
       "</table>\n",
       "</div>"
      ],
      "text/plain": [
       "                                         Product Name  Price\n",
       "83  MF Hayat Women Ladies Rayon Embroidery Casul S...  199.0"
      ]
     },
     "execution_count": 17,
     "metadata": {},
     "output_type": "execute_result"
    }
   ],
   "source": [
    "# Find outliers product by price\n",
    "\n",
    "Q1 = data[\"Price\"].quantile(0.25)\n",
    "Q3 = data[\"Price\"].quantile(0.75)\n",
    "IQR = Q3-Q1\n",
    "price_outlier = data[(data['Price'] < Q1- 1.5 * IQR) | (data['Price'] > Q3 + 1.5 * IQR)]\n",
    "\n",
    "product_outlier = price_outlier[[\"Product Name\",\"Price\"]]\n",
    "product_outlier"
   ]
  },
  {
   "cell_type": "code",
   "execution_count": 18,
   "id": "91eae702-497d-467c-a82f-f53ba7949e3c",
   "metadata": {},
   "outputs": [
    {
     "data": {
      "text/plain": [
       "0"
      ]
     },
     "execution_count": 18,
     "metadata": {},
     "output_type": "execute_result"
    }
   ],
   "source": [
    "# Product with low rating and high discount indicate Quality issue\n",
    "\n",
    "low_rating = data[(data['Rating'] < 3) & (data['Discount_percent'] > 50)]\n",
    "low_rating.size"
   ]
  },
  {
   "cell_type": "markdown",
   "id": "39bd56af-4945-4235-b868-f59b5701fc5f",
   "metadata": {},
   "source": [
    "### Data Visualization"
   ]
  },
  {
   "cell_type": "code",
   "execution_count": 19,
   "id": "436558a0-b6a6-447c-b09a-b78d91b1555e",
   "metadata": {},
   "outputs": [],
   "source": [
    "import matplotlib.pyplot as plt\n",
    "import seaborn as sns\n",
    "import plotly.express as px"
   ]
  },
  {
   "cell_type": "code",
   "execution_count": 20,
   "id": "fdd045ec-4e3f-4b4e-af5c-72471901fed2",
   "metadata": {},
   "outputs": [
    {
     "data": {
      "image/png": "[encoded data removed]",
      "text/plain": [
       "<Figure size 1000x500 with 1 Axes>"
      ]
     },
     "metadata": {},
     "output_type": "display_data"
    }
   ],
   "source": [
    "# Distribution of product price\n",
    "\n",
    "plt.figure(figsize=(10,5))\n",
    "sns.histplot(data[\"Price\"], bins=20, kde=True, color=\"green\")\n",
    "plt.xlabel(\"Price\")\n",
    "plt.title(\"Distribution of Price\")\n",
    "plt.savefig(\"Distribution of Price.png\", dpi=300, bbox_inches='tight') \n",
    "plt.show()"
   ]
  },
  {
   "cell_type": "code",
   "execution_count": 21,
   "id": "6b0b132f-20e5-4c57-bad7-16365f3dc47c",
   "metadata": {},
   "outputs": [
    {
     "data": {
      "application/vnd.plotly.v1+json": {
       "config": {
        "plotlyServerURL": "https://plot.ly"
       },
       "data": [
        {
         "hovertemplate": "Brand Name=%{x}<br>Discount_percent=%{marker.color}<extra></extra>",
         "legendgroup": "",
         "marker": {
          "color": {
           "bdata": "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",
           "dtype": "f8"
          },
          "coloraxis": "coloraxis",
          "pattern": {
           "shape": ""
          }
         },
         "name": "",
         "orientation": "v",
         "showlegend": false,
         "text": {
          "bdata": "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",
          "dtype": "f8"
         },
         "textposition": "auto",
         "type": "bar",
         "x": [
          "FABNEX",
          "INDO ERA",
          "Kalaanj",
          "Manojava",
          "Hritika",
          "The Hope",
          "WEALTHY WOMEN",
          "Sidhidata",
          "DRESSAR",
          "DEVIDINO",
          "VredeVogel",
          "Vastraa Fusion",
          "PURSHOTTAM WALA",
          "MIRCHI FASHION",
          "rytras",
          "KASOOTI",
          "StyleScope",
          "Vbuyz",
          "PRIYAGANI GARMENTS",
          "Priscilla",
          "JYA - PAMPER YOURSELF",
          "Angoori Fashion",
          "KLOSIA",
          "LIBOZA",
          "Nevisha Style",
          "IVES",
          "FIRSTRAIN",
          "RATAN",
          "DREAM & DZIRE",
          "LookMark",
          "Priyashi",
          "Yashika",
          "ANNI DESIGNER",
          "GoSriKi",
          "WESTEVER",
          "TESORI (BHARAT)",
          "EthnicJunction",
          "FIORRA",
          "KrazzyKudy",
          "Kastoori COLLECTION",
          "HARSUKHI",
          "CHANDRAWAT",
          "Lamenda Fashions",
          "RangMahal",
          "Yash Gallery",
          "Youthnic",
          "NUEVOSDAMAS",
          "AnjuShree Choice",
          "GEKHA",
          "feranoid",
          "Monira",
          "miss fame",
          "SMOWKLY",
          "Vaamsi",
          "Gudwear",
          "NAINVISH",
          "DHRUVI TRENDZ",
          "GOD BLESS",
          "VastraVibes",
          "GLAM BALA",
          "SAK Jaipur",
          "DMP EXPORT",
          "Amudee Fashion",
          "ZAZADIYA",
          "SKYTICK",
          "Dharm House",
          "XL LOVE - By Janasya",
          "RATNAVALI",
          "Stylum",
          "Rajnandini",
          "Varanga",
          "JAIPURI COTTON KURTI",
          "SIRIL",
          "Maadwara",
          "LAVANDIS",
          "POPWINGS",
          "GLAMALUE",
          "Leriya Fashion",
          "Lakhnavi Fabrics",
          "SHIENZY",
          "FASHION YANTRA",
          "GENERIC",
          "KETCH",
          "flowervelly",
          "KRITANJYA DESIGNS",
          "CANVIR",
          "STYLE GANGA",
          "Nermosa",
          "LABULY",
          "ISTOCAN",
          "GRECIILOOKS",
          "THE RICHIK DESIGNS",
          "REAM",
          "Truvon Fashions",
          "WILSHIRE",
          "KISHORI KURTIES",
          "Janasya",
          "FAWOMENT",
          "Keshubaba",
          "AARTI FASHION",
          "Yova Style",
          "Vnyashri",
          "MF Hayat",
          "GARSAZ",
          "Shiv Textiles",
          "Miraan",
          "DEIDAD",
          "Urban Fab",
          "JAIPUR HAND BLOCK",
          "Shivgami Creation",
          "Aura Glam",
          "PESAS",
          "Glam Roots",
          "KIPEK",
          "Pistaa's",
          "Jevi Prints",
          "POISED",
          "SANGANER EXPORTS",
          "Monique",
          "Kuruti B Sheets",
          "Jikonet",
          "NANAK FEB",
          "Dream Beauty Fashion",
          "Kontaii",
          "GEHU GARMENTS",
          "Bright Cotton",
          "Rapsodia",
          "itshe",
          "D'Heer Fashion",
          "Moirai",
          "CREATION & YOU",
          "Fashion2wear",
          "DSK Studio",
          "Parvdi",
          "G4Girl",
          "In Love",
          "MEESORRA",
          "LABEL ADRIJA",
          "GOLDEN GIRLS FASHION",
          "Globus",
          "NAYRAH",
          "Celebravo",
          "FORKEY",
          "DMP FASHION",
          "Urmisa",
          "Vahson",
          "SIZU",
          "Generic",
          "HION HILS",
          "Lerkiza",
          "INTIMACY LINGERIE",
          "EXPORTHOUSE",
          "Avayayat",
          "Kyraa",
          "विधा",
          "Meesan",
          "Tissu",
          "STONE",
          "BLOCKS OF INDIA",
          "Soch",
          "Aurelia",
          "MAHIRA 'S COMFORT",
          "Areeh",
          "TREND LEVEL",
          "JINVARAM",
          "Mehsoos",
          "MILAAV",
          "Aarika",
          "Arya Creation",
          "HF HOLYDAY FASHION",
          "PIDAVLIYA'S",
          "Libas",
          "Cotton Flare",
          "Rimeline",
          "4k fashion",
          "Maurya",
          "Rangriti",
          "Adhishree trends",
          "Aj Art",
          "Hellaro Export",
          "sanaa",
          "COTTBELLE",
          "Naticraft",
          "VIYANA COLLECTION",
          "NEW JON",
          "VEDANA",
          "SHUBH",
          "TAG-7",
          "idaLia",
          "Zivame",
          "Amazon Brand - Myx",
          "BluGrass",
          "Max",
          "Comfort Lady",
          "Bee M Pee Designer"
         ],
         "xaxis": "x",
         "y": {
          "bdata": "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",
          "dtype": "f8"
         },
         "yaxis": "y"
        }
       ],
       "layout": {
        "barmode": "relative",
        "coloraxis": {
         "colorbar": {
          "title": {
           "text": "Discount_percent"
          }
         },
         "colorscale": [
          [
           0,
           "#000004"
          ],
          [
           0.1111111111111111,
           "#1b0c41"
          ],
          [
           0.2222222222222222,
           "#4a0c6b"
          ],
          [
           0.3333333333333333,
           "#781c6d"
          ],
          [
           0.4444444444444444,
           "#a52c60"
          ],
          [
           0.5555555555555556,
           "#cf4446"
          ],
          [
           0.6666666666666666,
           "#ed6925"
          ],
          [
           0.7777777777777778,
           "#fb9b06"
          ],
          [
           0.8888888888888888,
           "#f7d13d"
          ],
          [
           1,
           "#fcffa4"
          ]
         ]
        },
        "legend": {
         "tracegroupgap": 0
        },
        "margin": {
         "t": 60
        },
        "template": {
         "data": {
          "bar": [
           {
            "error_x": {
             "color": "#2a3f5f"
            },
            "error_y": {
             "color": "#2a3f5f"
            },
            "marker": {
             "line": {
              "color": "#E5ECF6",
              "width": 0.5
             },
             "pattern": {
              "fillmode": "overlay",
              "size": 10,
              "solidity": 0.2
             }
            },
            "type": "bar"
           }
          ],
          "barpolar": [
           {
            "marker": {
             "line": {
              "color": "#E5ECF6",
              "width": 0.5
             },
             "pattern": {
              "fillmode": "overlay",
              "size": 10,
              "solidity": 0.2
             }
            },
            "type": "barpolar"
           }
          ],
          "carpet": [
           {
            "aaxis": {
             "endlinecolor": "#2a3f5f",
             "gridcolor": "white",
             "linecolor": "white",
             "minorgridcolor": "white",
             "startlinecolor": "#2a3f5f"
            },
            "baxis": {
             "endlinecolor": "#2a3f5f",
             "gridcolor": "white",
             "linecolor": "white",
             "minorgridcolor": "white",
             "startlinecolor": "#2a3f5f"
            },
            "type": "carpet"
           }
          ],
          "choropleth": [
           {
            "colorbar": {
             "outlinewidth": 0,
             "ticks": ""
            },
            "type": "choropleth"
           }
          ],
          "contour": [
           {
            "colorbar": {
             "outlinewidth": 0,
             "ticks": ""
            },
            "colorscale": [
             [
              0,
              "#0d0887"
             ],
             [
              0.1111111111111111,
              "#46039f"
             ],
             [
              0.2222222222222222,
              "#7201a8"
             ],
             [
              0.3333333333333333,
              "#9c179e"
             ],
             [
              0.4444444444444444,
              "#bd3786"
             ],
             [
              0.5555555555555556,
              "#d8576b"
             ],
             [
              0.6666666666666666,
              "#ed7953"
             ],
             [
              0.7777777777777778,
              "#fb9f3a"
             ],
             [
              0.8888888888888888,
              "#fdca26"
             ],
             [
              1,
              "#f0f921"
             ]
            ],
            "type": "contour"
           }
          ],
          "contourcarpet": [
           {
            "colorbar": {
             "outlinewidth": 0,
             "ticks": ""
            },
            "type": "contourcarpet"
           }
          ],
          "heatmap": [
           {
            "colorbar": {
             "outlinewidth": 0,
             "ticks": ""
            },
            "colorscale": [
             [
              0,
              "#0d0887"
             ],
             [
              0.1111111111111111,
              "#46039f"
             ],
             [
              0.2222222222222222,
              "#7201a8"
             ],
             [
              0.3333333333333333,
              "#9c179e"
             ],
             [
              0.4444444444444444,
              "#bd3786"
             ],
             [
              0.5555555555555556,
              "#d8576b"
             ],
             [
              0.6666666666666666,
              "#ed7953"
             ],
             [
              0.7777777777777778,
              "#fb9f3a"
             ],
             [
              0.8888888888888888,
              "#fdca26"
             ],
             [
              1,
              "#f0f921"
             ]
            ],
            "type": "heatmap"
           }
          ],
          "histogram": [
           {
            "marker": {
             "pattern": {
              "fillmode": "overlay",
              "size": 10,
              "solidity": 0.2
             }
            },
            "type": "histogram"
           }
          ],
          "histogram2d": [
           {
            "colorbar": {
             "outlinewidth": 0,
             "ticks": ""
            },
            "colorscale": [
             [
              0,
              "#0d0887"
             ],
             [
              0.1111111111111111,
              "#46039f"
             ],
             [
              0.2222222222222222,
              "#7201a8"
             ],
             [
              0.3333333333333333,
              "#9c179e"
             ],
             [
              0.4444444444444444,
              "#bd3786"
             ],
             [
              0.5555555555555556,
              "#d8576b"
             ],
             [
              0.6666666666666666,
              "#ed7953"
             ],
             [
              0.7777777777777778,
              "#fb9f3a"
             ],
             [
              0.8888888888888888,
              "#fdca26"
             ],
             [
              1,
              "#f0f921"
             ]
            ],
            "type": "histogram2d"
           }
          ],
          "histogram2dcontour": [
           {
            "colorbar": {
             "outlinewidth": 0,
             "ticks": ""
            },
            "colorscale": [
             [
              0,
              "#0d0887"
             ],
             [
              0.1111111111111111,
              "#46039f"
             ],
             [
              0.2222222222222222,
              "#7201a8"
             ],
             [
              0.3333333333333333,
              "#9c179e"
             ],
             [
              0.4444444444444444,
              "#bd3786"
             ],
             [
              0.5555555555555556,
              "#d8576b"
             ],
             [
              0.6666666666666666,
              "#ed7953"
             ],
             [
              0.7777777777777778,
              "#fb9f3a"
             ],
             [
              0.8888888888888888,
              "#fdca26"
             ],
             [
              1,
              "#f0f921"
             ]
            ],
            "type": "histogram2dcontour"
           }
          ],
          "mesh3d": [
           {
            "colorbar": {
             "outlinewidth": 0,
             "ticks": ""
            },
            "type": "mesh3d"
           }
          ],
          "parcoords": [
           {
            "line": {
             "colorbar": {
              "outlinewidth": 0,
              "ticks": ""
             }
            },
            "type": "parcoords"
           }
          ],
          "pie": [
           {
            "automargin": true,
            "type": "pie"
           }
          ],
          "scatter": [
           {
            "fillpattern": {
             "fillmode": "overlay",
             "size": 10,
             "solidity": 0.2
            },
            "type": "scatter"
           }
          ],
          "scatter3d": [
           {
            "line": {
             "colorbar": {
              "outlinewidth": 0,
              "ticks": ""
             }
            },
            "marker": {
             "colorbar": {
              "outlinewidth": 0,
              "ticks": ""
             }
            },
            "type": "scatter3d"
           }
          ],
          "scattercarpet": [
           {
            "marker": {
             "colorbar": {
              "outlinewidth": 0,
              "ticks": ""
             }
            },
            "type": "scattercarpet"
           }
          ],
          "scattergeo": [
           {
            "marker": {
             "colorbar": {
              "outlinewidth": 0,
              "ticks": ""
             }
            },
            "type": "scattergeo"
           }
          ],
          "scattergl": [
           {
            "marker": {
             "colorbar": {
              "outlinewidth": 0,
              "ticks": ""
             }
            },
            "type": "scattergl"
           }
          ],
          "scattermap": [
           {
            "marker": {
             "colorbar": {
              "outlinewidth": 0,
              "ticks": ""
             }
            },
            "type": "scattermap"
           }
          ],
          "scattermapbox": [
           {
            "marker": {
             "colorbar": {
              "outlinewidth": 0,
              "ticks": ""
             }
            },
            "type": "scattermapbox"
           }
          ],
          "scatterpolar": [
           {
            "marker": {
             "colorbar": {
              "outlinewidth": 0,
              "ticks": ""
             }
            },
            "type": "scatterpolar"
           }
          ],
          "scatterpolargl": [
           {
            "marker": {
             "colorbar": {
              "outlinewidth": 0,
              "ticks": ""
             }
            },
            "type": "scatterpolargl"
           }
          ],
          "scatterternary": [
           {
            "marker": {
             "colorbar": {
              "outlinewidth": 0,
              "ticks": ""
             }
            },
            "type": "scatterternary"
           }
          ],
          "surface": [
           {
            "colorbar": {
             "outlinewidth": 0,
             "ticks": ""
            },
            "colorscale": [
             [
              0,
              "#0d0887"
             ],
             [
              0.1111111111111111,
              "#46039f"
             ],
             [
              0.2222222222222222,
              "#7201a8"
             ],
             [
              0.3333333333333333,
              "#9c179e"
             ],
             [
              0.4444444444444444,
              "#bd3786"
             ],
             [
              0.5555555555555556,
              "#d8576b"
             ],
             [
              0.6666666666666666,
              "#ed7953"
             ],
             [
              0.7777777777777778,
              "#fb9f3a"
             ],
             [
              0.8888888888888888,
              "#fdca26"
             ],
             [
              1,
              "#f0f921"
             ]
            ],
            "type": "surface"
           }
          ],
          "table": [
           {
            "cells": {
             "fill": {
              "color": "#EBF0F8"
             },
             "line": {
              "color": "white"
             }
            },
            "header": {
             "fill": {
              "color": "#C8D4E3"
             },
             "line": {
              "color": "white"
             }
            },
            "type": "table"
           }
          ]
         },
         "layout": {
          "annotationdefaults": {
           "arrowcolor": "#2a3f5f",
           "arrowhead": 0,
           "arrowwidth": 1
          },
          "autotypenumbers": "strict",
          "coloraxis": {
           "colorbar": {
            "outlinewidth": 0,
            "ticks": ""
           }
          },
          "colorscale": {
           "diverging": [
            [
             0,
             "#8e0152"
            ],
            [
             0.1,
             "#c51b7d"
            ],
            [
             0.2,
             "#de77ae"
            ],
            [
             0.3,
             "#f1b6da"
            ],
            [
             0.4,
             "#fde0ef"
            ],
            [
             0.5,
             "#f7f7f7"
            ],
            [
             0.6,
             "#e6f5d0"
            ],
            [
             0.7,
             "#b8e186"
            ],
            [
             0.8,
             "#7fbc41"
            ],
            [
             0.9,
             "#4d9221"
            ],
            [
             1,
             "#276419"
            ]
           ],
           "sequential": [
            [
             0,
             "#0d0887"
            ],
            [
             0.1111111111111111,
             "#46039f"
            ],
            [
             0.2222222222222222,
             "#7201a8"
            ],
            [
             0.3333333333333333,
             "#9c179e"
            ],
            [
             0.4444444444444444,
             "#bd3786"
            ],
            [
             0.5555555555555556,
             "#d8576b"
            ],
            [
             0.6666666666666666,
             "#ed7953"
            ],
            [
             0.7777777777777778,
             "#fb9f3a"
            ],
            [
             0.8888888888888888,
             "#fdca26"
            ],
            [
             1,
             "#f0f921"
            ]
           ],
           "sequentialminus": [
            [
             0,
             "#0d0887"
            ],
            [
             0.1111111111111111,
             "#46039f"
            ],
            [
             0.2222222222222222,
             "#7201a8"
            ],
            [
             0.3333333333333333,
             "#9c179e"
            ],
            [
             0.4444444444444444,
             "#bd3786"
            ],
            [
             0.5555555555555556,
             "#d8576b"
            ],
            [
             0.6666666666666666,
             "#ed7953"
            ],
            [
             0.7777777777777778,
             "#fb9f3a"
            ],
            [
             0.8888888888888888,
             "#fdca26"
            ],
            [
             1,
             "#f0f921"
            ]
           ]
          },
          "colorway": [
           "#636efa",
           "#EF553B",
           "#00cc96",
           "#ab63fa",
           "#FFA15A",
           "#19d3f3",
           "#FF6692",
           "#B6E880",
           "#FF97FF",
           "#FECB52"
          ],
          "font": {
           "color": "#2a3f5f"
          },
          "geo": {
           "bgcolor": "white",
           "lakecolor": "white",
           "landcolor": "#E5ECF6",
           "showlakes": true,
           "showland": true,
           "subunitcolor": "white"
          },
          "hoverlabel": {
           "align": "left"
          },
          "hovermode": "closest",
          "mapbox": {
           "style": "light"
          },
          "paper_bgcolor": "white",
          "plot_bgcolor": "#E5ECF6",
          "polar": {
           "angularaxis": {
            "gridcolor": "white",
            "linecolor": "white",
            "ticks": ""
           },
           "bgcolor": "#E5ECF6",
           "radialaxis": {
            "gridcolor": "white",
            "linecolor": "white",
            "ticks": ""
           }
          },
          "scene": {
           "xaxis": {
            "backgroundcolor": "#E5ECF6",
            "gridcolor": "white",
            "gridwidth": 2,
            "linecolor": "white",
            "showbackground": true,
            "ticks": "",
            "zerolinecolor": "white"
           },
           "yaxis": {
            "backgroundcolor": "#E5ECF6",
            "gridcolor": "white",
            "gridwidth": 2,
            "linecolor": "white",
            "showbackground": true,
            "ticks": "",
            "zerolinecolor": "white"
           },
           "zaxis": {
            "backgroundcolor": "#E5ECF6",
            "gridcolor": "white",
            "gridwidth": 2,
            "linecolor": "white",
            "showbackground": true,
            "ticks": "",
            "zerolinecolor": "white"
           }
          },
          "shapedefaults": {
           "line": {
            "color": "#2a3f5f"
           }
          },
          "ternary": {
           "aaxis": {
            "gridcolor": "white",
            "linecolor": "white",
            "ticks": ""
           },
           "baxis": {
            "gridcolor": "white",
            "linecolor": "white",
            "ticks": ""
           },
           "bgcolor": "#E5ECF6",
           "caxis": {
            "gridcolor": "white",
            "linecolor": "white",
            "ticks": ""
           }
          },
          "title": {
           "x": 0.05
          },
          "xaxis": {
           "automargin": true,
           "gridcolor": "white",
           "linecolor": "white",
           "ticks": "",
           "title": {
            "standoff": 15
           },
           "zerolinecolor": "white",
           "zerolinewidth": 2
          },
          "yaxis": {
           "automargin": true,
           "gridcolor": "white",
           "linecolor": "white",
           "ticks": "",
           "title": {
            "standoff": 15
           },
           "zerolinecolor": "white",
           "zerolinewidth": 2
          }
         }
        },
        "title": {
         "text": "Average Discount Percentage by Brand"
        },
        "xaxis": {
         "anchor": "y",
         "domain": [
          0,
          1
         ],
         "tickangle": -45,
         "title": {
          "text": "Brand"
         }
        },
        "yaxis": {
         "anchor": "x",
         "domain": [
          0,
          1
         ],
         "title": {
          "text": "Average Discount (%)"
         }
        }
       }
      }
     },
     "metadata": {},
     "output_type": "display_data"
    }
   ],
   "source": [
    "# Average discount percentage\n",
    "avg_brand_discount = data.groupby('Brand Name', as_index=False)['Discount_percent'].mean()\n",
    "avg_brand_discount = avg_brand_discount.sort_values(by='Discount_percent', ascending=False)\n",
    "\n",
    "\n",
    "fig = px.bar(avg_brand_discount,\n",
    "    x='Brand Name',\n",
    "    y='Discount_percent',\n",
    "    hover_data=['Discount_percent'],\n",
    "    text='Discount_percent',\n",
    "    color='Discount_percent',\n",
    "    color_continuous_scale='Inferno')\n",
    "\n",
    "fig.update_layout(\n",
    "    title=\"Average Discount Percentage by Brand\",\n",
    "    xaxis_title=\"Brand\",\n",
    "    yaxis_title=\"Average Discount (%)\",\n",
    "    xaxis_tickangle=-45)\n",
    "fig.write_image(\"avg_discount_by_brand.png\", width=1200, height=1000, scale=2)\n",
    "\n",
    "fig.show()"
   ]
  },
  {
   "cell_type": "code",
   "execution_count": 22,
   "id": "b47a4c2d-f38b-42f8-a3fa-0b309472a50f",
   "metadata": {},
   "outputs": [
    {
     "data": {
      "application/vnd.plotly.v1+json": {
       "config": {
        "plotlyServerURL": "https://plot.ly"
       },
       "data": [
        {
         "hovertemplate": "Brand Name=%{x}<br>Discount_percent=%{marker.color}<extra></extra>",
         "legendgroup": "",
         "marker": {
          "color": {
           "bdata": "PQrXo3BtVkDhehSuR0VWQOF6FK5HQVZAmpmZmZkJVkAVrkfherRVQFyPwvUorFVA4noUrkeRVUC4HoXrUYhVQMP1KFyPQlVAw/UoXI9CVUA=",
           "dtype": "f8"
          },
          "coloraxis": "coloraxis",
          "pattern": {
           "shape": ""
          }
         },
         "name": "",
         "orientation": "v",
         "showlegend": false,
         "text": {
          "bdata": "PQrXo3BtVkDhehSuR0VWQOF6FK5HQVZAmpmZmZkJVkAVrkfherRVQFyPwvUorFVA4noUrkeRVUC4HoXrUYhVQMP1KFyPQlVAw/UoXI9CVUA=",
          "dtype": "f8"
         },
         "textposition": "auto",
         "type": "bar",
         "x": [
          "FABNEX",
          "INDO ERA",
          "Kalaanj",
          "Manojava",
          "Hritika",
          "The Hope",
          "WEALTHY WOMEN",
          "Sidhidata",
          "DRESSAR",
          "DEVIDINO"
         ],
         "xaxis": "x",
         "y": {
          "bdata": "PQrXo3BtVkDhehSuR0VWQOF6FK5HQVZAmpmZmZkJVkAVrkfherRVQFyPwvUorFVA4noUrkeRVUC4HoXrUYhVQMP1KFyPQlVAw/UoXI9CVUA=",
          "dtype": "f8"
         },
         "yaxis": "y"
        }
       ],
       "layout": {
        "barmode": "relative",
        "coloraxis": {
         "colorbar": {
          "title": {
           "text": "Discount_percent"
          }
         },
         "colorscale": [
          [
           0,
           "#000004"
          ],
          [
           0.1111111111111111,
           "#1b0c41"
          ],
          [
           0.2222222222222222,
           "#4a0c6b"
          ],
          [
           0.3333333333333333,
           "#781c6d"
          ],
          [
           0.4444444444444444,
           "#a52c60"
          ],
          [
           0.5555555555555556,
           "#cf4446"
          ],
          [
           0.6666666666666666,
           "#ed6925"
          ],
          [
           0.7777777777777778,
           "#fb9b06"
          ],
          [
           0.8888888888888888,
           "#f7d13d"
          ],
          [
           1,
           "#fcffa4"
          ]
         ]
        },
        "legend": {
         "tracegroupgap": 0
        },
        "margin": {
         "t": 60
        },
        "template": {
         "data": {
          "bar": [
           {
            "error_x": {
             "color": "#2a3f5f"
            },
            "error_y": {
             "color": "#2a3f5f"
            },
            "marker": {
             "line": {
              "color": "#E5ECF6",
              "width": 0.5
             },
             "pattern": {
              "fillmode": "overlay",
              "size": 10,
              "solidity": 0.2
             }
            },
            "type": "bar"
           }
          ],
          "barpolar": [
           {
            "marker": {
             "line": {
              "color": "#E5ECF6",
              "width": 0.5
             },
             "pattern": {
              "fillmode": "overlay",
              "size": 10,
              "solidity": 0.2
             }
            },
            "type": "barpolar"
           }
          ],
          "carpet": [
           {
            "aaxis": {
             "endlinecolor": "#2a3f5f",
             "gridcolor": "white",
             "linecolor": "white",
             "minorgridcolor": "white",
             "startlinecolor": "#2a3f5f"
            },
            "baxis": {
             "endlinecolor": "#2a3f5f",
             "gridcolor": "white",
             "linecolor": "white",
             "minorgridcolor": "white",
             "startlinecolor": "#2a3f5f"
            },
            "type": "carpet"
           }
          ],
          "choropleth": [
           {
            "colorbar": {
             "outlinewidth": 0,
             "ticks": ""
            },
            "type": "choropleth"
           }
          ],
          "contour": [
           {
            "colorbar": {
             "outlinewidth": 0,
             "ticks": ""
            },
            "colorscale": [
             [
              0,
              "#0d0887"
             ],
             [
              0.1111111111111111,
              "#46039f"
             ],
             [
              0.2222222222222222,
              "#7201a8"
             ],
             [
              0.3333333333333333,
              "#9c179e"
             ],
             [
              0.4444444444444444,
              "#bd3786"
             ],
             [
              0.5555555555555556,
              "#d8576b"
             ],
             [
              0.6666666666666666,
              "#ed7953"
             ],
             [
              0.7777777777777778,
              "#fb9f3a"
             ],
             [
              0.8888888888888888,
              "#fdca26"
             ],
             [
              1,
              "#f0f921"
             ]
            ],
            "type": "contour"
           }
          ],
          "contourcarpet": [
           {
            "colorbar": {
             "outlinewidth": 0,
             "ticks": ""
            },
            "type": "contourcarpet"
           }
          ],
          "heatmap": [
           {
            "colorbar": {
             "outlinewidth": 0,
             "ticks": ""
            },
            "colorscale": [
             [
              0,
              "#0d0887"
             ],
             [
              0.1111111111111111,
              "#46039f"
             ],
             [
              0.2222222222222222,
              "#7201a8"
             ],
             [
              0.3333333333333333,
              "#9c179e"
             ],
             [
              0.4444444444444444,
              "#bd3786"
             ],
             [
              0.5555555555555556,
              "#d8576b"
             ],
             [
              0.6666666666666666,
              "#ed7953"
             ],
             [
              0.7777777777777778,
              "#fb9f3a"
             ],
             [
              0.8888888888888888,
              "#fdca26"
             ],
             [
              1,
              "#f0f921"
             ]
            ],
            "type": "heatmap"
           }
          ],
          "histogram": [
           {
            "marker": {
             "pattern": {
              "fillmode": "overlay",
              "size": 10,
              "solidity": 0.2
             }
            },
            "type": "histogram"
           }
          ],
          "histogram2d": [
           {
            "colorbar": {
             "outlinewidth": 0,
             "ticks": ""
            },
            "colorscale": [
             [
              0,
              "#0d0887"
             ],
             [
              0.1111111111111111,
              "#46039f"
             ],
             [
              0.2222222222222222,
              "#7201a8"
             ],
             [
              0.3333333333333333,
              "#9c179e"
             ],
             [
              0.4444444444444444,
              "#bd3786"
             ],
             [
              0.5555555555555556,
              "#d8576b"
             ],
             [
              0.6666666666666666,
              "#ed7953"
             ],
             [
              0.7777777777777778,
              "#fb9f3a"
             ],
             [
              0.8888888888888888,
              "#fdca26"
             ],
             [
              1,
              "#f0f921"
             ]
            ],
            "type": "histogram2d"
           }
          ],
          "histogram2dcontour": [
           {
            "colorbar": {
             "outlinewidth": 0,
             "ticks": ""
            },
            "colorscale": [
             [
              0,
              "#0d0887"
             ],
             [
              0.1111111111111111,
              "#46039f"
             ],
             [
              0.2222222222222222,
              "#7201a8"
             ],
             [
              0.3333333333333333,
              "#9c179e"
             ],
             [
              0.4444444444444444,
              "#bd3786"
             ],
             [
              0.5555555555555556,
              "#d8576b"
             ],
             [
              0.6666666666666666,
              "#ed7953"
             ],
             [
              0.7777777777777778,
              "#fb9f3a"
             ],
             [
              0.8888888888888888,
              "#fdca26"
             ],
             [
              1,
              "#f0f921"
             ]
            ],
            "type": "histogram2dcontour"
           }
          ],
          "mesh3d": [
           {
            "colorbar": {
             "outlinewidth": 0,
             "ticks": ""
            },
            "type": "mesh3d"
           }
          ],
          "parcoords": [
           {
            "line": {
             "colorbar": {
              "outlinewidth": 0,
              "ticks": ""
             }
            },
            "type": "parcoords"
           }
          ],
          "pie": [
           {
            "automargin": true,
            "type": "pie"
           }
          ],
          "scatter": [
           {
            "fillpattern": {
             "fillmode": "overlay",
             "size": 10,
             "solidity": 0.2
            },
            "type": "scatter"
           }
          ],
          "scatter3d": [
           {
            "line": {
             "colorbar": {
              "outlinewidth": 0,
              "ticks": ""
             }
            },
            "marker": {
             "colorbar": {
              "outlinewidth": 0,
              "ticks": ""
             }
            },
            "type": "scatter3d"
           }
          ],
          "scattercarpet": [
           {
            "marker": {
             "colorbar": {
              "outlinewidth": 0,
              "ticks": ""
             }
            },
            "type": "scattercarpet"
           }
          ],
          "scattergeo": [
           {
            "marker": {
             "colorbar": {
              "outlinewidth": 0,
              "ticks": ""
             }
            },
            "type": "scattergeo"
           }
          ],
          "scattergl": [
           {
            "marker": {
             "colorbar": {
              "outlinewidth": 0,
              "ticks": ""
             }
            },
            "type": "scattergl"
           }
          ],
          "scattermap": [
           {
            "marker": {
             "colorbar": {
              "outlinewidth": 0,
              "ticks": ""
             }
            },
            "type": "scattermap"
           }
          ],
          "scattermapbox": [
           {
            "marker": {
             "colorbar": {
              "outlinewidth": 0,
              "ticks": ""
             }
            },
            "type": "scattermapbox"
           }
          ],
          "scatterpolar": [
           {
            "marker": {
             "colorbar": {
              "outlinewidth": 0,
              "ticks": ""
             }
            },
            "type": "scatterpolar"
           }
          ],
          "scatterpolargl": [
           {
            "marker": {
             "colorbar": {
              "outlinewidth": 0,
              "ticks": ""
             }
            },
            "type": "scatterpolargl"
           }
          ],
          "scatterternary": [
           {
            "marker": {
             "colorbar": {
              "outlinewidth": 0,
              "ticks": ""
             }
            },
            "type": "scatterternary"
           }
          ],
          "surface": [
           {
            "colorbar": {
             "outlinewidth": 0,
             "ticks": ""
            },
            "colorscale": [
             [
              0,
              "#0d0887"
             ],
             [
              0.1111111111111111,
              "#46039f"
             ],
             [
              0.2222222222222222,
              "#7201a8"
             ],
             [
              0.3333333333333333,
              "#9c179e"
             ],
             [
              0.4444444444444444,
              "#bd3786"
             ],
             [
              0.5555555555555556,
              "#d8576b"
             ],
             [
              0.6666666666666666,
              "#ed7953"
             ],
             [
              0.7777777777777778,
              "#fb9f3a"
             ],
             [
              0.8888888888888888,
              "#fdca26"
             ],
             [
              1,
              "#f0f921"
             ]
            ],
            "type": "surface"
           }
          ],
          "table": [
           {
            "cells": {
             "fill": {
              "color": "#EBF0F8"
             },
             "line": {
              "color": "white"
             }
            },
            "header": {
             "fill": {
              "color": "#C8D4E3"
             },
             "line": {
              "color": "white"
             }
            },
            "type": "table"
           }
          ]
         },
         "layout": {
          "annotationdefaults": {
           "arrowcolor": "#2a3f5f",
           "arrowhead": 0,
           "arrowwidth": 1
          },
          "autotypenumbers": "strict",
          "coloraxis": {
           "colorbar": {
            "outlinewidth": 0,
            "ticks": ""
           }
          },
          "colorscale": {
           "diverging": [
            [
             0,
             "#8e0152"
            ],
            [
             0.1,
             "#c51b7d"
            ],
            [
             0.2,
             "#de77ae"
            ],
            [
             0.3,
             "#f1b6da"
            ],
            [
             0.4,
             "#fde0ef"
            ],
            [
             0.5,
             "#f7f7f7"
            ],
            [
             0.6,
             "#e6f5d0"
            ],
            [
             0.7,
             "#b8e186"
            ],
            [
             0.8,
             "#7fbc41"
            ],
            [
             0.9,
             "#4d9221"
            ],
            [
             1,
             "#276419"
            ]
           ],
           "sequential": [
            [
             0,
             "#0d0887"
            ],
            [
             0.1111111111111111,
             "#46039f"
            ],
            [
             0.2222222222222222,
             "#7201a8"
            ],
            [
             0.3333333333333333,
             "#9c179e"
            ],
            [
             0.4444444444444444,
             "#bd3786"
            ],
            [
             0.5555555555555556,
             "#d8576b"
            ],
            [
             0.6666666666666666,
             "#ed7953"
            ],
            [
             0.7777777777777778,
             "#fb9f3a"
            ],
            [
             0.8888888888888888,
             "#fdca26"
            ],
            [
             1,
             "#f0f921"
            ]
           ],
           "sequentialminus": [
            [
             0,
             "#0d0887"
            ],
            [
             0.1111111111111111,
             "#46039f"
            ],
            [
             0.2222222222222222,
             "#7201a8"
            ],
            [
             0.3333333333333333,
             "#9c179e"
            ],
            [
             0.4444444444444444,
             "#bd3786"
            ],
            [
             0.5555555555555556,
             "#d8576b"
            ],
            [
             0.6666666666666666,
             "#ed7953"
            ],
            [
             0.7777777777777778,
             "#fb9f3a"
            ],
            [
             0.8888888888888888,
             "#fdca26"
            ],
            [
             1,
             "#f0f921"
            ]
           ]
          },
          "colorway": [
           "#636efa",
           "#EF553B",
           "#00cc96",
           "#ab63fa",
           "#FFA15A",
           "#19d3f3",
           "#FF6692",
           "#B6E880",
           "#FF97FF",
           "#FECB52"
          ],
          "font": {
           "color": "#2a3f5f"
          },
          "geo": {
           "bgcolor": "white",
           "lakecolor": "white",
           "landcolor": "#E5ECF6",
           "showlakes": true,
           "showland": true,
           "subunitcolor": "white"
          },
          "hoverlabel": {
           "align": "left"
          },
          "hovermode": "closest",
          "mapbox": {
           "style": "light"
          },
          "paper_bgcolor": "white",
          "plot_bgcolor": "#E5ECF6",
          "polar": {
           "angularaxis": {
            "gridcolor": "white",
            "linecolor": "white",
            "ticks": ""
           },
           "bgcolor": "#E5ECF6",
           "radialaxis": {
            "gridcolor": "white",
            "linecolor": "white",
            "ticks": ""
           }
          },
          "scene": {
           "xaxis": {
            "backgroundcolor": "#E5ECF6",
            "gridcolor": "white",
            "gridwidth": 2,
            "linecolor": "white",
            "showbackground": true,
            "ticks": "",
            "zerolinecolor": "white"
           },
           "yaxis": {
            "backgroundcolor": "#E5ECF6",
            "gridcolor": "white",
            "gridwidth": 2,
            "linecolor": "white",
            "showbackground": true,
            "ticks": "",
            "zerolinecolor": "white"
           },
           "zaxis": {
            "backgroundcolor": "#E5ECF6",
            "gridcolor": "white",
            "gridwidth": 2,
            "linecolor": "white",
            "showbackground": true,
            "ticks": "",
            "zerolinecolor": "white"
           }
          },
          "shapedefaults": {
           "line": {
            "color": "#2a3f5f"
           }
          },
          "ternary": {
           "aaxis": {
            "gridcolor": "white",
            "linecolor": "white",
            "ticks": ""
           },
           "baxis": {
            "gridcolor": "white",
            "linecolor": "white",
            "ticks": ""
           },
           "bgcolor": "#E5ECF6",
           "caxis": {
            "gridcolor": "white",
            "linecolor": "white",
            "ticks": ""
           }
          },
          "title": {
           "x": 0.05
          },
          "xaxis": {
           "automargin": true,
           "gridcolor": "white",
           "linecolor": "white",
           "ticks": "",
           "title": {
            "standoff": 15
           },
           "zerolinecolor": "white",
           "zerolinewidth": 2
          },
          "yaxis": {
           "automargin": true,
           "gridcolor": "white",
           "linecolor": "white",
           "ticks": "",
           "title": {
            "standoff": 15
           },
           "zerolinecolor": "white",
           "zerolinewidth": 2
          }
         }
        },
        "title": {
         "text": "Top 10 Average Discount Percentage by Brand"
        },
        "xaxis": {
         "anchor": "y",
         "domain": [
          0,
          1
         ],
         "tickangle": -45,
         "title": {
          "text": "Brand"
         }
        },
        "yaxis": {
         "anchor": "x",
         "domain": [
          0,
          1
         ],
         "title": {
          "text": "Average Discount (%)"
         }
        }
       }
      }
     },
     "metadata": {},
     "output_type": "display_data"
    }
   ],
   "source": [
    "top10_avg_brand_discount = avg_brand_discount.head(10)\n",
    "\n",
    "fig = px.bar(top10_avg_brand_discount,\n",
    "    x='Brand Name',\n",
    "    y='Discount_percent',\n",
    "    hover_data=['Discount_percent'],\n",
    "    text='Discount_percent',\n",
    "    color='Discount_percent',\n",
    "    color_continuous_scale='Inferno')\n",
    "\n",
    "fig.update_layout(title=\"Top 10 Average Discount Percentage by Brand\",\n",
    "    xaxis_title=\"Brand\",\n",
    "    yaxis_title=\"Average Discount (%)\",\n",
    "    xaxis_tickangle=-45)\n",
    "fig.write_image(\"Top 10 Average Discount Percentage by Brand.png\", width=1200, height=600, scale=2)\n",
    "\n",
    "fig.show()"
   ]
  },
  {
   "cell_type": "code",
   "execution_count": 23,
   "id": "c203bd88-16a4-4322-889e-8720d2cf7382",
   "metadata": {},
   "outputs": [
    {
     "data": {
      "image/png": "[encoded data removed]",
      "text/plain": [
       "<Figure size 800x500 with 1 Axes>"
      ]
     },
     "metadata": {},
     "output_type": "display_data"
    }
   ],
   "source": [
    "# Boxplot - Price Distribution of choosen category\n",
    "\n",
    "plt.figure(figsize=(8,5))\n",
    "sns.boxplot(x='Category', y='Price', data=data,)\n",
    "plt.title('Price Distribution of chosen Category')\n",
    "plt.xlabel('Category')\n",
    "plt.ylabel('Price')\n",
    "plt.savefig(\"Price Distribution of chosen category.png\", dpi=300, bbox_inches='tight') \n",
    "plt.show()"
   ]
  },
  {
   "cell_type": "code",
   "execution_count": 24,
   "id": "2df02096-8650-4c1a-8419-e87623830dfa",
   "metadata": {},
   "outputs": [
    {
     "data": {
      "image/png": "[encoded data removed]",
      "text/plain": [
       "<Figure size 1000x600 with 1 Axes>"
      ]
     },
     "metadata": {},
     "output_type": "display_data"
    }
   ],
   "source": [
    "# Scatter plot of Ratings vs Discount Percentage\n",
    "\n",
    "plt.figure(figsize=(10,6))\n",
    "sns.scatterplot(x='Discount_percent', y='Rating', data=data,alpha=0.7)\n",
    "plt.title('Ratings vs Discount Percentage')\n",
    "plt.xlabel('Discount Percentage')\n",
    "plt.ylabel('Rating')\n",
    "plt.savefig(\"Ratings vs Discount Percentage.png\", dpi=300, bbox_inches='tight') \n",
    "plt.show()"
   ]
  },
  {
   "cell_type": "code",
   "execution_count": 25,
   "id": "2b2e86c7-0002-4aca-8237-d29b6d1c605e",
   "metadata": {},
   "outputs": [
    {
     "data": {
      "image/png": "[encoded data removed]",
      "text/plain": [
       "<Figure size 1000x500 with 1 Axes>"
      ]
     },
     "metadata": {},
     "output_type": "display_data"
    }
   ],
   "source": [
    "# Distribution of Discount \n",
    "\n",
    "plt.figure(figsize=(10,5))\n",
    "sns.histplot(data[\"Discount_percent\"], bins=20, kde=True, color=\"red\")\n",
    "plt.xlabel(\"Discount %\")\n",
    "plt.title(\"Distribution of Discount\")\n",
    "plt.savefig(\"Distribution of Discount.png\", dpi=300, bbox_inches='tight') \n",
    "plt.show()"
   ]
  },
  {
   "cell_type": "code",
   "execution_count": 26,
   "id": "74f6fdcd-053e-4c6c-a193-3b1354e6f00a",
   "metadata": {},
   "outputs": [
    {
     "data": {
      "image/png": "[encoded data removed]",
      "text/plain": [
       "<Figure size 1000x500 with 1 Axes>"
      ]
     },
     "metadata": {},
     "output_type": "display_data"
    }
   ],
   "source": [
    "# Distribution of Rating\n",
    "\n",
    "plt.figure(figsize=(10,5))\n",
    "sns.histplot(data[\"Rating\"], bins=10, kde=True, color=\"blue\")\n",
    "plt.xlabel(\"Rating\")\n",
    "plt.title(\"Distribution of Rating\")\n",
    "plt.savefig(\"Distribution of Rating.png\", dpi=300, bbox_inches='tight') \n",
    "plt.show()"
   ]
  },
  {
   "cell_type": "code",
   "execution_count": 27,
   "id": "bb7b1fc3-447c-489d-94e8-54cccc889b52",
   "metadata": {},
   "outputs": [],
   "source": [
    "# Top 10 Brands by Average Rating\n",
    "brand_rating = data.groupby(\"Brand Name\")[\"Rating\"].mean().reset_index().sort_values(by=\"Rating\", ascending=False)\n",
    "top10_brand_rating = brand_rating.head(10)"
   ]
  },
  {
   "cell_type": "code",
   "execution_count": 28,
   "id": "b3dea979-233a-43df-970e-0168d4c58c24",
   "metadata": {},
   "outputs": [
    {
     "data": {
      "application/vnd.plotly.v1+json": {
       "config": {
        "plotlyServerURL": "https://plot.ly"
       },
       "data": [
        {
         "hovertemplate": "Brand=%{x}<br>Average Rating=%{marker.color}<extra></extra>",
         "legendgroup": "",
         "marker": {
          "color": {
           "bdata": "AAAAAAAAFEAAAAAAAAAUQAAAAAAAABRAAAAAAAAAFEAAAAAAAAAUQAAAAAAAABRAAAAAAAAAFECamZmZmZkTQGZmZmZmZhNAVVVVVVVVE0A=",
           "dtype": "f8"
          },
          "coloraxis": "coloraxis",
          "pattern": {
           "shape": ""
          }
         },
         "name": "",
         "orientation": "v",
         "showlegend": false,
         "textposition": "auto",
         "type": "bar",
         "x": [
          "4k fashion",
          "DHRUVI TRENDZ",
          "Arya Creation",
          "Hellaro Export",
          "Shiv Textiles",
          "Moirai",
          "JINVARAM",
          "VastraVibes",
          "Jevi Prints",
          "Adhishree trends"
         ],
         "xaxis": "x",
         "y": {
          "bdata": "AAAAAAAAFEAAAAAAAAAUQAAAAAAAABRAAAAAAAAAFEAAAAAAAAAUQAAAAAAAABRAAAAAAAAAFECamZmZmZkTQGZmZmZmZhNAVVVVVVVVE0A=",
          "dtype": "f8"
         },
         "yaxis": "y"
        }
       ],
       "layout": {
        "barmode": "relative",
        "coloraxis": {
         "colorbar": {
          "title": {
           "text": "Average Rating"
          }
         },
         "colorscale": [
          [
           0,
           "rgb(247,251,255)"
          ],
          [
           0.125,
           "rgb(222,235,247)"
          ],
          [
           0.25,
           "rgb(198,219,239)"
          ],
          [
           0.375,
           "rgb(158,202,225)"
          ],
          [
           0.5,
           "rgb(107,174,214)"
          ],
          [
           0.625,
           "rgb(66,146,198)"
          ],
          [
           0.75,
           "rgb(33,113,181)"
          ],
          [
           0.875,
           "rgb(8,81,156)"
          ],
          [
           1,
           "rgb(8,48,107)"
          ]
         ]
        },
        "height": 500,
        "legend": {
         "tracegroupgap": 0
        },
        "template": {
         "data": {
          "bar": [
           {
            "error_x": {
             "color": "#2a3f5f"
            },
            "error_y": {
             "color": "#2a3f5f"
            },
            "marker": {
             "line": {
              "color": "#E5ECF6",
              "width": 0.5
             },
             "pattern": {
              "fillmode": "overlay",
              "size": 10,
              "solidity": 0.2
             }
            },
            "type": "bar"
           }
          ],
          "barpolar": [
           {
            "marker": {
             "line": {
              "color": "#E5ECF6",
              "width": 0.5
             },
             "pattern": {
              "fillmode": "overlay",
              "size": 10,
              "solidity": 0.2
             }
            },
            "type": "barpolar"
           }
          ],
          "carpet": [
           {
            "aaxis": {
             "endlinecolor": "#2a3f5f",
             "gridcolor": "white",
             "linecolor": "white",
             "minorgridcolor": "white",
             "startlinecolor": "#2a3f5f"
            },
            "baxis": {
             "endlinecolor": "#2a3f5f",
             "gridcolor": "white",
             "linecolor": "white",
             "minorgridcolor": "white",
             "startlinecolor": "#2a3f5f"
            },
            "type": "carpet"
           }
          ],
          "choropleth": [
           {
            "colorbar": {
             "outlinewidth": 0,
             "ticks": ""
            },
            "type": "choropleth"
           }
          ],
          "contour": [
           {
            "colorbar": {
             "outlinewidth": 0,
             "ticks": ""
            },
            "colorscale": [
             [
              0,
              "#0d0887"
             ],
             [
              0.1111111111111111,
              "#46039f"
             ],
             [
              0.2222222222222222,
              "#7201a8"
             ],
             [
              0.3333333333333333,
              "#9c179e"
             ],
             [
              0.4444444444444444,
              "#bd3786"
             ],
             [
              0.5555555555555556,
              "#d8576b"
             ],
             [
              0.6666666666666666,
              "#ed7953"
             ],
             [
              0.7777777777777778,
              "#fb9f3a"
             ],
             [
              0.8888888888888888,
              "#fdca26"
             ],
             [
              1,
              "#f0f921"
             ]
            ],
            "type": "contour"
           }
          ],
          "contourcarpet": [
           {
            "colorbar": {
             "outlinewidth": 0,
             "ticks": ""
            },
            "type": "contourcarpet"
           }
          ],
          "heatmap": [
           {
            "colorbar": {
             "outlinewidth": 0,
             "ticks": ""
            },
            "colorscale": [
             [
              0,
              "#0d0887"
             ],
             [
              0.1111111111111111,
              "#46039f"
             ],
             [
              0.2222222222222222,
              "#7201a8"
             ],
             [
              0.3333333333333333,
              "#9c179e"
             ],
             [
              0.4444444444444444,
              "#bd3786"
             ],
             [
              0.5555555555555556,
              "#d8576b"
             ],
             [
              0.6666666666666666,
              "#ed7953"
             ],
             [
              0.7777777777777778,
              "#fb9f3a"
             ],
             [
              0.8888888888888888,
              "#fdca26"
             ],
             [
              1,
              "#f0f921"
             ]
            ],
            "type": "heatmap"
           }
          ],
          "histogram": [
           {
            "marker": {
             "pattern": {
              "fillmode": "overlay",
              "size": 10,
              "solidity": 0.2
             }
            },
            "type": "histogram"
           }
          ],
          "histogram2d": [
           {
            "colorbar": {
             "outlinewidth": 0,
             "ticks": ""
            },
            "colorscale": [
             [
              0,
              "#0d0887"
             ],
             [
              0.1111111111111111,
              "#46039f"
             ],
             [
              0.2222222222222222,
              "#7201a8"
             ],
             [
              0.3333333333333333,
              "#9c179e"
             ],
             [
              0.4444444444444444,
              "#bd3786"
             ],
             [
              0.5555555555555556,
              "#d8576b"
             ],
             [
              0.6666666666666666,
              "#ed7953"
             ],
             [
              0.7777777777777778,
              "#fb9f3a"
             ],
             [
              0.8888888888888888,
              "#fdca26"
             ],
             [
              1,
              "#f0f921"
             ]
            ],
            "type": "histogram2d"
           }
          ],
          "histogram2dcontour": [
           {
            "colorbar": {
             "outlinewidth": 0,
             "ticks": ""
            },
            "colorscale": [
             [
              0,
              "#0d0887"
             ],
             [
              0.1111111111111111,
              "#46039f"
             ],
             [
              0.2222222222222222,
              "#7201a8"
             ],
             [
              0.3333333333333333,
              "#9c179e"
             ],
             [
              0.4444444444444444,
              "#bd3786"
             ],
             [
              0.5555555555555556,
              "#d8576b"
             ],
             [
              0.6666666666666666,
              "#ed7953"
             ],
             [
              0.7777777777777778,
              "#fb9f3a"
             ],
             [
              0.8888888888888888,
              "#fdca26"
             ],
             [
              1,
              "#f0f921"
             ]
            ],
            "type": "histogram2dcontour"
           }
          ],
          "mesh3d": [
           {
            "colorbar": {
             "outlinewidth": 0,
             "ticks": ""
            },
            "type": "mesh3d"
           }
          ],
          "parcoords": [
           {
            "line": {
             "colorbar": {
              "outlinewidth": 0,
              "ticks": ""
             }
            },
            "type": "parcoords"
           }
          ],
          "pie": [
           {
            "automargin": true,
            "type": "pie"
           }
          ],
          "scatter": [
           {
            "fillpattern": {
             "fillmode": "overlay",
             "size": 10,
             "solidity": 0.2
            },
            "type": "scatter"
           }
          ],
          "scatter3d": [
           {
            "line": {
             "colorbar": {
              "outlinewidth": 0,
              "ticks": ""
             }
            },
            "marker": {
             "colorbar": {
              "outlinewidth": 0,
              "ticks": ""
             }
            },
            "type": "scatter3d"
           }
          ],
          "scattercarpet": [
           {
            "marker": {
             "colorbar": {
              "outlinewidth": 0,
              "ticks": ""
             }
            },
            "type": "scattercarpet"
           }
          ],
          "scattergeo": [
           {
            "marker": {
             "colorbar": {
              "outlinewidth": 0,
              "ticks": ""
             }
            },
            "type": "scattergeo"
           }
          ],
          "scattergl": [
           {
            "marker": {
             "colorbar": {
              "outlinewidth": 0,
              "ticks": ""
             }
            },
            "type": "scattergl"
           }
          ],
          "scattermap": [
           {
            "marker": {
             "colorbar": {
              "outlinewidth": 0,
              "ticks": ""
             }
            },
            "type": "scattermap"
           }
          ],
          "scattermapbox": [
           {
            "marker": {
             "colorbar": {
              "outlinewidth": 0,
              "ticks": ""
             }
            },
            "type": "scattermapbox"
           }
          ],
          "scatterpolar": [
           {
            "marker": {
             "colorbar": {
              "outlinewidth": 0,
              "ticks": ""
             }
            },
            "type": "scatterpolar"
           }
          ],
          "scatterpolargl": [
           {
            "marker": {
             "colorbar": {
              "outlinewidth": 0,
              "ticks": ""
             }
            },
            "type": "scatterpolargl"
           }
          ],
          "scatterternary": [
           {
            "marker": {
             "colorbar": {
              "outlinewidth": 0,
              "ticks": ""
             }
            },
            "type": "scatterternary"
           }
          ],
          "surface": [
           {
            "colorbar": {
             "outlinewidth": 0,
             "ticks": ""
            },
            "colorscale": [
             [
              0,
              "#0d0887"
             ],
             [
              0.1111111111111111,
              "#46039f"
             ],
             [
              0.2222222222222222,
              "#7201a8"
             ],
             [
              0.3333333333333333,
              "#9c179e"
             ],
             [
              0.4444444444444444,
              "#bd3786"
             ],
             [
              0.5555555555555556,
              "#d8576b"
             ],
             [
              0.6666666666666666,
              "#ed7953"
             ],
             [
              0.7777777777777778,
              "#fb9f3a"
             ],
             [
              0.8888888888888888,
              "#fdca26"
             ],
             [
              1,
              "#f0f921"
             ]
            ],
            "type": "surface"
           }
          ],
          "table": [
           {
            "cells": {
             "fill": {
              "color": "#EBF0F8"
             },
             "line": {
              "color": "white"
             }
            },
            "header": {
             "fill": {
              "color": "#C8D4E3"
             },
             "line": {
              "color": "white"
             }
            },
            "type": "table"
           }
          ]
         },
         "layout": {
          "annotationdefaults": {
           "arrowcolor": "#2a3f5f",
           "arrowhead": 0,
           "arrowwidth": 1
          },
          "autotypenumbers": "strict",
          "coloraxis": {
           "colorbar": {
            "outlinewidth": 0,
            "ticks": ""
           }
          },
          "colorscale": {
           "diverging": [
            [
             0,
             "#8e0152"
            ],
            [
             0.1,
             "#c51b7d"
            ],
            [
             0.2,
             "#de77ae"
            ],
            [
             0.3,
             "#f1b6da"
            ],
            [
             0.4,
             "#fde0ef"
            ],
            [
             0.5,
             "#f7f7f7"
            ],
            [
             0.6,
             "#e6f5d0"
            ],
            [
             0.7,
             "#b8e186"
            ],
            [
             0.8,
             "#7fbc41"
            ],
            [
             0.9,
             "#4d9221"
            ],
            [
             1,
             "#276419"
            ]
           ],
           "sequential": [
            [
             0,
             "#0d0887"
            ],
            [
             0.1111111111111111,
             "#46039f"
            ],
            [
             0.2222222222222222,
             "#7201a8"
            ],
            [
             0.3333333333333333,
             "#9c179e"
            ],
            [
             0.4444444444444444,
             "#bd3786"
            ],
            [
             0.5555555555555556,
             "#d8576b"
            ],
            [
             0.6666666666666666,
             "#ed7953"
            ],
            [
             0.7777777777777778,
             "#fb9f3a"
            ],
            [
             0.8888888888888888,
             "#fdca26"
            ],
            [
             1,
             "#f0f921"
            ]
           ],
           "sequentialminus": [
            [
             0,
             "#0d0887"
            ],
            [
             0.1111111111111111,
             "#46039f"
            ],
            [
             0.2222222222222222,
             "#7201a8"
            ],
            [
             0.3333333333333333,
             "#9c179e"
            ],
            [
             0.4444444444444444,
             "#bd3786"
            ],
            [
             0.5555555555555556,
             "#d8576b"
            ],
            [
             0.6666666666666666,
             "#ed7953"
            ],
            [
             0.7777777777777778,
             "#fb9f3a"
            ],
            [
             0.8888888888888888,
             "#fdca26"
            ],
            [
             1,
             "#f0f921"
            ]
           ]
          },
          "colorway": [
           "#636efa",
           "#EF553B",
           "#00cc96",
           "#ab63fa",
           "#FFA15A",
           "#19d3f3",
           "#FF6692",
           "#B6E880",
           "#FF97FF",
           "#FECB52"
          ],
          "font": {
           "color": "#2a3f5f"
          },
          "geo": {
           "bgcolor": "white",
           "lakecolor": "white",
           "landcolor": "#E5ECF6",
           "showlakes": true,
           "showland": true,
           "subunitcolor": "white"
          },
          "hoverlabel": {
           "align": "left"
          },
          "hovermode": "closest",
          "mapbox": {
           "style": "light"
          },
          "paper_bgcolor": "white",
          "plot_bgcolor": "#E5ECF6",
          "polar": {
           "angularaxis": {
            "gridcolor": "white",
            "linecolor": "white",
            "ticks": ""
           },
           "bgcolor": "#E5ECF6",
           "radialaxis": {
            "gridcolor": "white",
            "linecolor": "white",
            "ticks": ""
           }
          },
          "scene": {
           "xaxis": {
            "backgroundcolor": "#E5ECF6",
            "gridcolor": "white",
            "gridwidth": 2,
            "linecolor": "white",
            "showbackground": true,
            "ticks": "",
            "zerolinecolor": "white"
           },
           "yaxis": {
            "backgroundcolor": "#E5ECF6",
            "gridcolor": "white",
            "gridwidth": 2,
            "linecolor": "white",
            "showbackground": true,
            "ticks": "",
            "zerolinecolor": "white"
           },
           "zaxis": {
            "backgroundcolor": "#E5ECF6",
            "gridcolor": "white",
            "gridwidth": 2,
            "linecolor": "white",
            "showbackground": true,
            "ticks": "",
            "zerolinecolor": "white"
           }
          },
          "shapedefaults": {
           "line": {
            "color": "#2a3f5f"
           }
          },
          "ternary": {
           "aaxis": {
            "gridcolor": "white",
            "linecolor": "white",
            "ticks": ""
           },
           "baxis": {
            "gridcolor": "white",
            "linecolor": "white",
            "ticks": ""
           },
           "bgcolor": "#E5ECF6",
           "caxis": {
            "gridcolor": "white",
            "linecolor": "white",
            "ticks": ""
           }
          },
          "title": {
           "x": 0.05
          },
          "xaxis": {
           "automargin": true,
           "gridcolor": "white",
           "linecolor": "white",
           "ticks": "",
           "title": {
            "standoff": 15
           },
           "zerolinecolor": "white",
           "zerolinewidth": 2
          },
          "yaxis": {
           "automargin": true,
           "gridcolor": "white",
           "linecolor": "white",
           "ticks": "",
           "title": {
            "standoff": 15
           },
           "zerolinecolor": "white",
           "zerolinewidth": 2
          }
         }
        },
        "title": {
         "text": "Top 10 Brands by Average Rating"
        },
        "width": 800,
        "xaxis": {
         "anchor": "y",
         "domain": [
          0,
          1
         ],
         "tickangle": -45,
         "title": {
          "text": "Brand"
         }
        },
        "yaxis": {
         "anchor": "x",
         "domain": [
          0,
          1
         ],
         "title": {
          "text": "Average Rating"
         }
        }
       }
      },
      "image/png": "[encoded data removed]"
     },
     "metadata": {},
     "output_type": "display_data"
    }
   ],
   "source": [
    "fig = px.bar(\n",
    "    top10_brand_rating,\n",
    "    x=\"Brand Name\",\n",
    "    y=\"Rating\",\n",
    "    title=\"Top 10 Brands by Average Rating\",\n",
    "    labels={\"Rating\": \"Average Rating\", \"Brand Name\": \"Brand\"},\n",
    "    color=\"Rating\",\n",
    "    hover_data={\"Brand Name\": True, \"Rating\": True},\n",
    "    color_continuous_scale=\"Blues\")\n",
    "fig.update_layout(xaxis_tickangle=-45, width=800, height=500)\n",
    "fig.write_image(\"top10_brand_rating.png\",scale=2)\n",
    "\n",
    "fig.show()"
   ]
  },
  {
   "cell_type": "code",
   "execution_count": 29,
   "id": "01fc0272-e971-4f47-ba3e-cb94e53aa651",
   "metadata": {},
   "outputs": [
    {
     "data": {
      "application/vnd.plotly.v1+json": {
       "config": {
        "plotlyServerURL": "https://plot.ly"
       },
       "data": [
        {
         "customdata": {
          "bdata": "AAAAAAAAFEAAAAAAAAAUQAAAAAAAABRAAAAAAAAAFEAAAAAAAAAUQAAAAAAAABRAAAAAAAAAFECamZmZmZkTQGZmZmZmZhNAVVVVVVVVE0A=",
          "dtype": "f8",
          "shape": "10, 1"
         },
         "hovertemplate": "Brand=%{x}<br>Average Price=%{y}<br>Rating=%{marker.color}<extra></extra>",
         "legendgroup": "",
         "marker": {
          "color": {
           "bdata": "AAAAAAAAFEAAAAAAAAAUQAAAAAAAABRAAAAAAAAAFEAAAAAAAAAUQAAAAAAAABRAAAAAAAAAFECamZmZmZkTQGZmZmZmZhNAVVVVVVVVE0A=",
           "dtype": "f8"
          },
          "coloraxis": "coloraxis",
          "pattern": {
           "shape": ""
          }
         },
         "name": "",
         "orientation": "v",
         "showlegend": false,
         "textposition": "auto",
         "type": "bar",
         "x": [
          "4k fashion",
          "DHRUVI TRENDZ",
          "Arya Creation",
          "Hellaro Export",
          "Shiv Textiles",
          "Moirai",
          "JINVARAM",
          "VastraVibes",
          "Jevi Prints",
          "Adhishree trends"
         ],
         "xaxis": "x",
         "y": {
          "bdata": "AAAAAAAQfEAAAAAAAHB7QAAAAAAAkH5AAAAAAACwfUAAAAAAAPB4QAAAAAAAEHxAAAAAAADweEAAAAAAAMB7QAAAAAAAMH9AAAAAAABwfUA=",
          "dtype": "f8"
         },
         "yaxis": "y"
        }
       ],
       "layout": {
        "barmode": "relative",
        "coloraxis": {
         "colorbar": {
          "title": {
           "text": "Rating"
          }
         },
         "colorscale": [
          [
           0,
           "rgb(255,245,240)"
          ],
          [
           0.125,
           "rgb(254,224,210)"
          ],
          [
           0.25,
           "rgb(252,187,161)"
          ],
          [
           0.375,
           "rgb(252,146,114)"
          ],
          [
           0.5,
           "rgb(251,106,74)"
          ],
          [
           0.625,
           "rgb(239,59,44)"
          ],
          [
           0.75,
           "rgb(203,24,29)"
          ],
          [
           0.875,
           "rgb(165,15,21)"
          ],
          [
           1,
           "rgb(103,0,13)"
          ]
         ]
        },
        "height": 500,
        "legend": {
         "tracegroupgap": 0
        },
        "template": {
         "data": {
          "bar": [
           {
            "error_x": {
             "color": "#2a3f5f"
            },
            "error_y": {
             "color": "#2a3f5f"
            },
            "marker": {
             "line": {
              "color": "#E5ECF6",
              "width": 0.5
             },
             "pattern": {
              "fillmode": "overlay",
              "size": 10,
              "solidity": 0.2
             }
            },
            "type": "bar"
           }
          ],
          "barpolar": [
           {
            "marker": {
             "line": {
              "color": "#E5ECF6",
              "width": 0.5
             },
             "pattern": {
              "fillmode": "overlay",
              "size": 10,
              "solidity": 0.2
             }
            },
            "type": "barpolar"
           }
          ],
          "carpet": [
           {
            "aaxis": {
             "endlinecolor": "#2a3f5f",
             "gridcolor": "white",
             "linecolor": "white",
             "minorgridcolor": "white",
             "startlinecolor": "#2a3f5f"
            },
            "baxis": {
             "endlinecolor": "#2a3f5f",
             "gridcolor": "white",
             "linecolor": "white",
             "minorgridcolor": "white",
             "startlinecolor": "#2a3f5f"
            },
            "type": "carpet"
           }
          ],
          "choropleth": [
           {
            "colorbar": {
             "outlinewidth": 0,
             "ticks": ""
            },
            "type": "choropleth"
           }
          ],
          "contour": [
           {
            "colorbar": {
             "outlinewidth": 0,
             "ticks": ""
            },
            "colorscale": [
             [
              0,
              "#0d0887"
             ],
             [
              0.1111111111111111,
              "#46039f"
             ],
             [
              0.2222222222222222,
              "#7201a8"
             ],
             [
              0.3333333333333333,
              "#9c179e"
             ],
             [
              0.4444444444444444,
              "#bd3786"
             ],
             [
              0.5555555555555556,
              "#d8576b"
             ],
             [
              0.6666666666666666,
              "#ed7953"
             ],
             [
              0.7777777777777778,
              "#fb9f3a"
             ],
             [
              0.8888888888888888,
              "#fdca26"
             ],
             [
              1,
              "#f0f921"
             ]
            ],
            "type": "contour"
           }
          ],
          "contourcarpet": [
           {
            "colorbar": {
             "outlinewidth": 0,
             "ticks": ""
            },
            "type": "contourcarpet"
           }
          ],
          "heatmap": [
           {
            "colorbar": {
             "outlinewidth": 0,
             "ticks": ""
            },
            "colorscale": [
             [
              0,
              "#0d0887"
             ],
             [
              0.1111111111111111,
              "#46039f"
             ],
             [
              0.2222222222222222,
              "#7201a8"
             ],
             [
              0.3333333333333333,
              "#9c179e"
             ],
             [
              0.4444444444444444,
              "#bd3786"
             ],
             [
              0.5555555555555556,
              "#d8576b"
             ],
             [
              0.6666666666666666,
              "#ed7953"
             ],
             [
              0.7777777777777778,
              "#fb9f3a"
             ],
             [
              0.8888888888888888,
              "#fdca26"
             ],
             [
              1,
              "#f0f921"
             ]
            ],
            "type": "heatmap"
           }
          ],
          "histogram": [
           {
            "marker": {
             "pattern": {
              "fillmode": "overlay",
              "size": 10,
              "solidity": 0.2
             }
            },
            "type": "histogram"
           }
          ],
          "histogram2d": [
           {
            "colorbar": {
             "outlinewidth": 0,
             "ticks": ""
            },
            "colorscale": [
             [
              0,
              "#0d0887"
             ],
             [
              0.1111111111111111,
              "#46039f"
             ],
             [
              0.2222222222222222,
              "#7201a8"
             ],
             [
              0.3333333333333333,
              "#9c179e"
             ],
             [
              0.4444444444444444,
              "#bd3786"
             ],
             [
              0.5555555555555556,
              "#d8576b"
             ],
             [
              0.6666666666666666,
              "#ed7953"
             ],
             [
              0.7777777777777778,
              "#fb9f3a"
             ],
             [
              0.8888888888888888,
              "#fdca26"
             ],
             [
              1,
              "#f0f921"
             ]
            ],
            "type": "histogram2d"
           }
          ],
          "histogram2dcontour": [
           {
            "colorbar": {
             "outlinewidth": 0,
             "ticks": ""
            },
            "colorscale": [
             [
              0,
              "#0d0887"
             ],
             [
              0.1111111111111111,
              "#46039f"
             ],
             [
              0.2222222222222222,
              "#7201a8"
             ],
             [
              0.3333333333333333,
              "#9c179e"
             ],
             [
              0.4444444444444444,
              "#bd3786"
             ],
             [
              0.5555555555555556,
              "#d8576b"
             ],
             [
              0.6666666666666666,
              "#ed7953"
             ],
             [
              0.7777777777777778,
              "#fb9f3a"
             ],
             [
              0.8888888888888888,
              "#fdca26"
             ],
             [
              1,
              "#f0f921"
             ]
            ],
            "type": "histogram2dcontour"
           }
          ],
          "mesh3d": [
           {
            "colorbar": {
             "outlinewidth": 0,
             "ticks": ""
            },
            "type": "mesh3d"
           }
          ],
          "parcoords": [
           {
            "line": {
             "colorbar": {
              "outlinewidth": 0,
              "ticks": ""
             }
            },
            "type": "parcoords"
           }
          ],
          "pie": [
           {
            "automargin": true,
            "type": "pie"
           }
          ],
          "scatter": [
           {
            "fillpattern": {
             "fillmode": "overlay",
             "size": 10,
             "solidity": 0.2
            },
            "type": "scatter"
           }
          ],
          "scatter3d": [
           {
            "line": {
             "colorbar": {
              "outlinewidth": 0,
              "ticks": ""
             }
            },
            "marker": {
             "colorbar": {
              "outlinewidth": 0,
              "ticks": ""
             }
            },
            "type": "scatter3d"
           }
          ],
          "scattercarpet": [
           {
            "marker": {
             "colorbar": {
              "outlinewidth": 0,
              "ticks": ""
             }
            },
            "type": "scattercarpet"
           }
          ],
          "scattergeo": [
           {
            "marker": {
             "colorbar": {
              "outlinewidth": 0,
              "ticks": ""
             }
            },
            "type": "scattergeo"
           }
          ],
          "scattergl": [
           {
            "marker": {
             "colorbar": {
              "outlinewidth": 0,
              "ticks": ""
             }
            },
            "type": "scattergl"
           }
          ],
          "scattermap": [
           {
            "marker": {
             "colorbar": {
              "outlinewidth": 0,
              "ticks": ""
             }
            },
            "type": "scattermap"
           }
          ],
          "scattermapbox": [
           {
            "marker": {
             "colorbar": {
              "outlinewidth": 0,
              "ticks": ""
             }
            },
            "type": "scattermapbox"
           }
          ],
          "scatterpolar": [
           {
            "marker": {
             "colorbar": {
              "outlinewidth": 0,
              "ticks": ""
             }
            },
            "type": "scatterpolar"
           }
          ],
          "scatterpolargl": [
           {
            "marker": {
             "colorbar": {
              "outlinewidth": 0,
              "ticks": ""
             }
            },
            "type": "scatterpolargl"
           }
          ],
          "scatterternary": [
           {
            "marker": {
             "colorbar": {
              "outlinewidth": 0,
              "ticks": ""
             }
            },
            "type": "scatterternary"
           }
          ],
          "surface": [
           {
            "colorbar": {
             "outlinewidth": 0,
             "ticks": ""
            },
            "colorscale": [
             [
              0,
              "#0d0887"
             ],
             [
              0.1111111111111111,
              "#46039f"
             ],
             [
              0.2222222222222222,
              "#7201a8"
             ],
             [
              0.3333333333333333,
              "#9c179e"
             ],
             [
              0.4444444444444444,
              "#bd3786"
             ],
             [
              0.5555555555555556,
              "#d8576b"
             ],
             [
              0.6666666666666666,
              "#ed7953"
             ],
             [
              0.7777777777777778,
              "#fb9f3a"
             ],
             [
              0.8888888888888888,
              "#fdca26"
             ],
             [
              1,
              "#f0f921"
             ]
            ],
            "type": "surface"
           }
          ],
          "table": [
           {
            "cells": {
             "fill": {
              "color": "#EBF0F8"
             },
             "line": {
              "color": "white"
             }
            },
            "header": {
             "fill": {
              "color": "#C8D4E3"
             },
             "line": {
              "color": "white"
             }
            },
            "type": "table"
           }
          ]
         },
         "layout": {
          "annotationdefaults": {
           "arrowcolor": "#2a3f5f",
           "arrowhead": 0,
           "arrowwidth": 1
          },
          "autotypenumbers": "strict",
          "coloraxis": {
           "colorbar": {
            "outlinewidth": 0,
            "ticks": ""
           }
          },
          "colorscale": {
           "diverging": [
            [
             0,
             "#8e0152"
            ],
            [
             0.1,
             "#c51b7d"
            ],
            [
             0.2,
             "#de77ae"
            ],
            [
             0.3,
             "#f1b6da"
            ],
            [
             0.4,
             "#fde0ef"
            ],
            [
             0.5,
             "#f7f7f7"
            ],
            [
             0.6,
             "#e6f5d0"
            ],
            [
             0.7,
             "#b8e186"
            ],
            [
             0.8,
             "#7fbc41"
            ],
            [
             0.9,
             "#4d9221"
            ],
            [
             1,
             "#276419"
            ]
           ],
           "sequential": [
            [
             0,
             "#0d0887"
            ],
            [
             0.1111111111111111,
             "#46039f"
            ],
            [
             0.2222222222222222,
             "#7201a8"
            ],
            [
             0.3333333333333333,
             "#9c179e"
            ],
            [
             0.4444444444444444,
             "#bd3786"
            ],
            [
             0.5555555555555556,
             "#d8576b"
            ],
            [
             0.6666666666666666,
             "#ed7953"
            ],
            [
             0.7777777777777778,
             "#fb9f3a"
            ],
            [
             0.8888888888888888,
             "#fdca26"
            ],
            [
             1,
             "#f0f921"
            ]
           ],
           "sequentialminus": [
            [
             0,
             "#0d0887"
            ],
            [
             0.1111111111111111,
             "#46039f"
            ],
            [
             0.2222222222222222,
             "#7201a8"
            ],
            [
             0.3333333333333333,
             "#9c179e"
            ],
            [
             0.4444444444444444,
             "#bd3786"
            ],
            [
             0.5555555555555556,
             "#d8576b"
            ],
            [
             0.6666666666666666,
             "#ed7953"
            ],
            [
             0.7777777777777778,
             "#fb9f3a"
            ],
            [
             0.8888888888888888,
             "#fdca26"
            ],
            [
             1,
             "#f0f921"
            ]
           ]
          },
          "colorway": [
           "#636efa",
           "#EF553B",
           "#00cc96",
           "#ab63fa",
           "#FFA15A",
           "#19d3f3",
           "#FF6692",
           "#B6E880",
           "#FF97FF",
           "#FECB52"
          ],
          "font": {
           "color": "#2a3f5f"
          },
          "geo": {
           "bgcolor": "white",
           "lakecolor": "white",
           "landcolor": "#E5ECF6",
           "showlakes": true,
           "showland": true,
           "subunitcolor": "white"
          },
          "hoverlabel": {
           "align": "left"
          },
          "hovermode": "closest",
          "mapbox": {
           "style": "light"
          },
          "paper_bgcolor": "white",
          "plot_bgcolor": "#E5ECF6",
          "polar": {
           "angularaxis": {
            "gridcolor": "white",
            "linecolor": "white",
            "ticks": ""
           },
           "bgcolor": "#E5ECF6",
           "radialaxis": {
            "gridcolor": "white",
            "linecolor": "white",
            "ticks": ""
           }
          },
          "scene": {
           "xaxis": {
            "backgroundcolor": "#E5ECF6",
            "gridcolor": "white",
            "gridwidth": 2,
            "linecolor": "white",
            "showbackground": true,
            "ticks": "",
            "zerolinecolor": "white"
           },
           "yaxis": {
            "backgroundcolor": "#E5ECF6",
            "gridcolor": "white",
            "gridwidth": 2,
            "linecolor": "white",
            "showbackground": true,
            "ticks": "",
            "zerolinecolor": "white"
           },
           "zaxis": {
            "backgroundcolor": "#E5ECF6",
            "gridcolor": "white",
            "gridwidth": 2,
            "linecolor": "white",
            "showbackground": true,
            "ticks": "",
            "zerolinecolor": "white"
           }
          },
          "shapedefaults": {
           "line": {
            "color": "#2a3f5f"
           }
          },
          "ternary": {
           "aaxis": {
            "gridcolor": "white",
            "linecolor": "white",
            "ticks": ""
           },
           "baxis": {
            "gridcolor": "white",
            "linecolor": "white",
            "ticks": ""
           },
           "bgcolor": "#E5ECF6",
           "caxis": {
            "gridcolor": "white",
            "linecolor": "white",
            "ticks": ""
           }
          },
          "title": {
           "x": 0.05
          },
          "xaxis": {
           "automargin": true,
           "gridcolor": "white",
           "linecolor": "white",
           "ticks": "",
           "title": {
            "standoff": 15
           },
           "zerolinecolor": "white",
           "zerolinewidth": 2
          },
          "yaxis": {
           "automargin": true,
           "gridcolor": "white",
           "linecolor": "white",
           "ticks": "",
           "title": {
            "standoff": 15
           },
           "zerolinecolor": "white",
           "zerolinewidth": 2
          }
         }
        },
        "title": {
         "text": "Top 10 Brands by Average Rating (with Avg Price)"
        },
        "width": 800,
        "xaxis": {
         "anchor": "y",
         "domain": [
          0,
          1
         ],
         "tickangle": -45,
         "title": {
          "text": "Brand"
         }
        },
        "yaxis": {
         "anchor": "x",
         "domain": [
          0,
          1
         ],
         "title": {
          "text": "Average Price"
         }
        }
       }
      },
      "image/png": "[encoded data removed]"
     },
     "metadata": {},
     "output_type": "display_data"
    }
   ],
   "source": [
    "# Group by Brand Name → calculate average Rating & Price\n",
    "brand_info = data.groupby(\"Brand Name\").agg({\"Price\": \"mean\",\"Rating\": \"mean\"}).reset_index()\n",
    "\n",
    "# Sort by Rating and take top 10 brands\n",
    "top10_brand_info = brand_info.sort_values(by=\"Rating\", ascending=False).head(10)\n",
    "\n",
    "fig = px.bar(\n",
    "    top10_brand_info,\n",
    "    x=\"Brand Name\",\n",
    "    y=\"Price\",\n",
    "    title=\"Top 10 Brands by Average Rating (with Avg Price)\",\n",
    "    labels={\"Price\": \"Average Price\", \"Brand Name\": \"Brand\"},\n",
    "    color=\"Rating\",   \n",
    "    hover_data={\"Brand Name\": True, \"Price\": True, \"Rating\": True},\n",
    "    color_continuous_scale=\"Reds\")\n",
    "\n",
    "fig.update_layout(xaxis_tickangle=-45, width=800, height=500)\n",
    "fig.write_image(\"Top 10 Brands by Average Rating (with Avg Price).png\",scale=2)\n",
    "fig.show()"
   ]
  },
  {
   "cell_type": "code",
   "execution_count": 33,
   "id": "a15b8956-fb1e-4b47-b134-9f8d4e6211ec",
   "metadata": {},
   "outputs": [],
   "source": [
    "# top 10 product by Number of reviews\n",
    "top10_products = data.sort_values(by=\"Reviews\", ascending=False).head(10)"
   ]
  },
  {
   "cell_type": "code",
   "execution_count": 31,
   "id": "bd2f635d-76d7-49af-80f5-f5af884216f8",
   "metadata": {},
   "outputs": [
    {
     "data": {
      "application/vnd.plotly.v1+json": {
       "config": {
        "plotlyServerURL": "https://plot.ly"
       },
       "data": [
        {
         "customdata": {
          "bdata": "AAAAAACwd0AAAAAAAAAQQD0K16NwXUJAAAAAAADAeEAAAAAAAAAQQK5H4XoUvlBAAAAAAAAQfEAAAAAAAAAQQGZmZmZm5kVAAAAAAAAwekAAAAAAAAAQQHE9CtejQFVAAAAAAABQfUAAAAAAAAAQQGZmZmZmpkRAAAAAAAAQfEAAAAAAAAAQQArXo3A9CiRAAAAAAAAwf0AAAAAAAAAQQHE9CtejsDBAAAAAAACAcEDNzMzMzMwQQIXrUbgeVVJAAAAAAADweEBmZmZmZmYQQLgehetRWFJAAAAAAAAwf0AAAAAAAAAQQMP1KFyPwlJA",
          "dtype": "f8",
          "shape": "10, 3"
         },
         "hovertemplate": "Product Name=%{x}<br>Reviews=%{marker.color}<br>Price=%{customdata[0]}<br>Rating=%{customdata[1]}<br>Discount_percent=%{customdata[2]}<extra></extra>",
         "legendgroup": "",
         "marker": {
          "color": {
           "bdata": "AAAAAADEw0AAAAAAAKbCQAAAAAAA9LdAAAAAAACfs0AAAAAAAGWwQAAAAAAAT7BAAAAAAAC0rUAAAAAAANqkQAAAAAAAJKBAAAAAAADMm0A=",
           "dtype": "f8"
          },
          "coloraxis": "coloraxis",
          "pattern": {
           "shape": ""
          }
         },
         "name": "",
         "orientation": "v",
         "showlegend": false,
         "textposition": "auto",
         "type": "bar",
         "x": [
          "Amazon Brand - Myx Women's Printed Regular Cotton Short Kurti | Available in Plus Size",
          "Janasya Women's Pink Cotton Woven Design Straight Kurta",
          "Amazon Brand - Myx Women's Cotton Printed A-line Short Kurti | Available in Plus Size",
          "EthnicJunction Women's Georgette Regular Fit Anarkali Chikankari Embroidered Eid Special Kurta | Eid Outfits",
          "Amazon Brand - Myx Women's Cotton Regular Fit Kurta | Available in Plus Size",
          "Max Women's Rayon Straight Fit Straight Printed Three-Quarter Sleeves Kurta",
          "Amazon Brand - Myx Women's Cotton Straight Fit Straight Kurti",
          "Shivgami Creation Women's Cotton Long Camisole for Kurti/Suit Slip/Long Inner/Samij for Women Sameej/Knee Length Inner Wear/Sameez/Kurti Slip/Round Neck/Invisible",
          "Urban Fab Women's Rayon Straight Kurta",
          "Nermosa Women Viscose Printed Straight Kurta Pant Set"
         ],
         "xaxis": "x",
         "y": {
          "bdata": "AAAAAADEw0AAAAAAAKbCQAAAAAAA9LdAAAAAAACfs0AAAAAAAGWwQAAAAAAAT7BAAAAAAAC0rUAAAAAAANqkQAAAAAAAJKBAAAAAAADMm0A=",
          "dtype": "f8"
         },
         "yaxis": "y"
        }
       ],
       "layout": {
        "barmode": "relative",
        "coloraxis": {
         "colorbar": {
          "title": {
           "text": "Reviews"
          }
         },
         "colorscale": [
          [
           0,
           "rgb(247,252,245)"
          ],
          [
           0.125,
           "rgb(229,245,224)"
          ],
          [
           0.25,
           "rgb(199,233,192)"
          ],
          [
           0.375,
           "rgb(161,217,155)"
          ],
          [
           0.5,
           "rgb(116,196,118)"
          ],
          [
           0.625,
           "rgb(65,171,93)"
          ],
          [
           0.75,
           "rgb(35,139,69)"
          ],
          [
           0.875,
           "rgb(0,109,44)"
          ],
          [
           1,
           "rgb(0,68,27)"
          ]
         ]
        },
        "height": 1000,
        "legend": {
         "tracegroupgap": 0
        },
        "template": {
         "data": {
          "bar": [
           {
            "error_x": {
             "color": "#2a3f5f"
            },
            "error_y": {
             "color": "#2a3f5f"
            },
            "marker": {
             "line": {
              "color": "#E5ECF6",
              "width": 0.5
             },
             "pattern": {
              "fillmode": "overlay",
              "size": 10,
              "solidity": 0.2
             }
            },
            "type": "bar"
           }
          ],
          "barpolar": [
           {
            "marker": {
             "line": {
              "color": "#E5ECF6",
              "width": 0.5
             },
             "pattern": {
              "fillmode": "overlay",
              "size": 10,
              "solidity": 0.2
             }
            },
            "type": "barpolar"
           }
          ],
          "carpet": [
           {
            "aaxis": {
             "endlinecolor": "#2a3f5f",
             "gridcolor": "white",
             "linecolor": "white",
             "minorgridcolor": "white",
             "startlinecolor": "#2a3f5f"
            },
            "baxis": {
             "endlinecolor": "#2a3f5f",
             "gridcolor": "white",
             "linecolor": "white",
             "minorgridcolor": "white",
             "startlinecolor": "#2a3f5f"
            },
            "type": "carpet"
           }
          ],
          "choropleth": [
           {
            "colorbar": {
             "outlinewidth": 0,
             "ticks": ""
            },
            "type": "choropleth"
           }
          ],
          "contour": [
           {
            "colorbar": {
             "outlinewidth": 0,
             "ticks": ""
            },
            "colorscale": [
             [
              0,
              "#0d0887"
             ],
             [
              0.1111111111111111,
              "#46039f"
             ],
             [
              0.2222222222222222,
              "#7201a8"
             ],
             [
              0.3333333333333333,
              "#9c179e"
             ],
             [
              0.4444444444444444,
              "#bd3786"
             ],
             [
              0.5555555555555556,
              "#d8576b"
             ],
             [
              0.6666666666666666,
              "#ed7953"
             ],
             [
              0.7777777777777778,
              "#fb9f3a"
             ],
             [
              0.8888888888888888,
              "#fdca26"
             ],
             [
              1,
              "#f0f921"
             ]
            ],
            "type": "contour"
           }
          ],
          "contourcarpet": [
           {
            "colorbar": {
             "outlinewidth": 0,
             "ticks": ""
            },
            "type": "contourcarpet"
           }
          ],
          "heatmap": [
           {
            "colorbar": {
             "outlinewidth": 0,
             "ticks": ""
            },
            "colorscale": [
             [
              0,
              "#0d0887"
             ],
             [
              0.1111111111111111,
              "#46039f"
             ],
             [
              0.2222222222222222,
              "#7201a8"
             ],
             [
              0.3333333333333333,
              "#9c179e"
             ],
             [
              0.4444444444444444,
              "#bd3786"
             ],
             [
              0.5555555555555556,
              "#d8576b"
             ],
             [
              0.6666666666666666,
              "#ed7953"
             ],
             [
              0.7777777777777778,
              "#fb9f3a"
             ],
             [
              0.8888888888888888,
              "#fdca26"
             ],
             [
              1,
              "#f0f921"
             ]
            ],
            "type": "heatmap"
           }
          ],
          "histogram": [
           {
            "marker": {
             "pattern": {
              "fillmode": "overlay",
              "size": 10,
              "solidity": 0.2
             }
            },
            "type": "histogram"
           }
          ],
          "histogram2d": [
           {
            "colorbar": {
             "outlinewidth": 0,
             "ticks": ""
            },
            "colorscale": [
             [
              0,
              "#0d0887"
             ],
             [
              0.1111111111111111,
              "#46039f"
             ],
             [
              0.2222222222222222,
              "#7201a8"
             ],
             [
              0.3333333333333333,
              "#9c179e"
             ],
             [
              0.4444444444444444,
              "#bd3786"
             ],
             [
              0.5555555555555556,
              "#d8576b"
             ],
             [
              0.6666666666666666,
              "#ed7953"
             ],
             [
              0.7777777777777778,
              "#fb9f3a"
             ],
             [
              0.8888888888888888,
              "#fdca26"
             ],
             [
              1,
              "#f0f921"
             ]
            ],
            "type": "histogram2d"
           }
          ],
          "histogram2dcontour": [
           {
            "colorbar": {
             "outlinewidth": 0,
             "ticks": ""
            },
            "colorscale": [
             [
              0,
              "#0d0887"
             ],
             [
              0.1111111111111111,
              "#46039f"
             ],
             [
              0.2222222222222222,
              "#7201a8"
             ],
             [
              0.3333333333333333,
              "#9c179e"
             ],
             [
              0.4444444444444444,
              "#bd3786"
             ],
             [
              0.5555555555555556,
              "#d8576b"
             ],
             [
              0.6666666666666666,
              "#ed7953"
             ],
             [
              0.7777777777777778,
              "#fb9f3a"
             ],
             [
              0.8888888888888888,
              "#fdca26"
             ],
             [
              1,
              "#f0f921"
             ]
            ],
            "type": "histogram2dcontour"
           }
          ],
          "mesh3d": [
           {
            "colorbar": {
             "outlinewidth": 0,
             "ticks": ""
            },
            "type": "mesh3d"
           }
          ],
          "parcoords": [
           {
            "line": {
             "colorbar": {
              "outlinewidth": 0,
              "ticks": ""
             }
            },
            "type": "parcoords"
           }
          ],
          "pie": [
           {
            "automargin": true,
            "type": "pie"
           }
          ],
          "scatter": [
           {
            "fillpattern": {
             "fillmode": "overlay",
             "size": 10,
             "solidity": 0.2
            },
            "type": "scatter"
           }
          ],
          "scatter3d": [
           {
            "line": {
             "colorbar": {
              "outlinewidth": 0,
              "ticks": ""
             }
            },
            "marker": {
             "colorbar": {
              "outlinewidth": 0,
              "ticks": ""
             }
            },
            "type": "scatter3d"
           }
          ],
          "scattercarpet": [
           {
            "marker": {
             "colorbar": {
              "outlinewidth": 0,
              "ticks": ""
             }
            },
            "type": "scattercarpet"
           }
          ],
          "scattergeo": [
           {
            "marker": {
             "colorbar": {
              "outlinewidth": 0,
              "ticks": ""
             }
            },
            "type": "scattergeo"
           }
          ],
          "scattergl": [
           {
            "marker": {
             "colorbar": {
              "outlinewidth": 0,
              "ticks": ""
             }
            },
            "type": "scattergl"
           }
          ],
          "scattermap": [
           {
            "marker": {
             "colorbar": {
              "outlinewidth": 0,
              "ticks": ""
             }
            },
            "type": "scattermap"
           }
          ],
          "scattermapbox": [
           {
            "marker": {
             "colorbar": {
              "outlinewidth": 0,
              "ticks": ""
             }
            },
            "type": "scattermapbox"
           }
          ],
          "scatterpolar": [
           {
            "marker": {
             "colorbar": {
              "outlinewidth": 0,
              "ticks": ""
             }
            },
            "type": "scatterpolar"
           }
          ],
          "scatterpolargl": [
           {
            "marker": {
             "colorbar": {
              "outlinewidth": 0,
              "ticks": ""
             }
            },
            "type": "scatterpolargl"
           }
          ],
          "scatterternary": [
           {
            "marker": {
             "colorbar": {
              "outlinewidth": 0,
              "ticks": ""
             }
            },
            "type": "scatterternary"
           }
          ],
          "surface": [
           {
            "colorbar": {
             "outlinewidth": 0,
             "ticks": ""
            },
            "colorscale": [
             [
              0,
              "#0d0887"
             ],
             [
              0.1111111111111111,
              "#46039f"
             ],
             [
              0.2222222222222222,
              "#7201a8"
             ],
             [
              0.3333333333333333,
              "#9c179e"
             ],
             [
              0.4444444444444444,
              "#bd3786"
             ],
             [
              0.5555555555555556,
              "#d8576b"
             ],
             [
              0.6666666666666666,
              "#ed7953"
             ],
             [
              0.7777777777777778,
              "#fb9f3a"
             ],
             [
              0.8888888888888888,
              "#fdca26"
             ],
             [
              1,
              "#f0f921"
             ]
            ],
            "type": "surface"
           }
          ],
          "table": [
           {
            "cells": {
             "fill": {
              "color": "#EBF0F8"
             },
             "line": {
              "color": "white"
             }
            },
            "header": {
             "fill": {
              "color": "#C8D4E3"
             },
             "line": {
              "color": "white"
             }
            },
            "type": "table"
           }
          ]
         },
         "layout": {
          "annotationdefaults": {
           "arrowcolor": "#2a3f5f",
           "arrowhead": 0,
           "arrowwidth": 1
          },
          "autotypenumbers": "strict",
          "coloraxis": {
           "colorbar": {
            "outlinewidth": 0,
            "ticks": ""
           }
          },
          "colorscale": {
           "diverging": [
            [
             0,
             "#8e0152"
            ],
            [
             0.1,
             "#c51b7d"
            ],
            [
             0.2,
             "#de77ae"
            ],
            [
             0.3,
             "#f1b6da"
            ],
            [
             0.4,
             "#fde0ef"
            ],
            [
             0.5,
             "#f7f7f7"
            ],
            [
             0.6,
             "#e6f5d0"
            ],
            [
             0.7,
             "#b8e186"
            ],
            [
             0.8,
             "#7fbc41"
            ],
            [
             0.9,
             "#4d9221"
            ],
            [
             1,
             "#276419"
            ]
           ],
           "sequential": [
            [
             0,
             "#0d0887"
            ],
            [
             0.1111111111111111,
             "#46039f"
            ],
            [
             0.2222222222222222,
             "#7201a8"
            ],
            [
             0.3333333333333333,
             "#9c179e"
            ],
            [
             0.4444444444444444,
             "#bd3786"
            ],
            [
             0.5555555555555556,
             "#d8576b"
            ],
            [
             0.6666666666666666,
             "#ed7953"
            ],
            [
             0.7777777777777778,
             "#fb9f3a"
            ],
            [
             0.8888888888888888,
             "#fdca26"
            ],
            [
             1,
             "#f0f921"
            ]
           ],
           "sequentialminus": [
            [
             0,
             "#0d0887"
            ],
            [
             0.1111111111111111,
             "#46039f"
            ],
            [
             0.2222222222222222,
             "#7201a8"
            ],
            [
             0.3333333333333333,
             "#9c179e"
            ],
            [
             0.4444444444444444,
             "#bd3786"
            ],
            [
             0.5555555555555556,
             "#d8576b"
            ],
            [
             0.6666666666666666,
             "#ed7953"
            ],
            [
             0.7777777777777778,
             "#fb9f3a"
            ],
            [
             0.8888888888888888,
             "#fdca26"
            ],
            [
             1,
             "#f0f921"
            ]
           ]
          },
          "colorway": [
           "#636efa",
           "#EF553B",
           "#00cc96",
           "#ab63fa",
           "#FFA15A",
           "#19d3f3",
           "#FF6692",
           "#B6E880",
           "#FF97FF",
           "#FECB52"
          ],
          "font": {
           "color": "#2a3f5f"
          },
          "geo": {
           "bgcolor": "white",
           "lakecolor": "white",
           "landcolor": "#E5ECF6",
           "showlakes": true,
           "showland": true,
           "subunitcolor": "white"
          },
          "hoverlabel": {
           "align": "left"
          },
          "hovermode": "closest",
          "mapbox": {
           "style": "light"
          },
          "paper_bgcolor": "white",
          "plot_bgcolor": "#E5ECF6",
          "polar": {
           "angularaxis": {
            "gridcolor": "white",
            "linecolor": "white",
            "ticks": ""
           },
           "bgcolor": "#E5ECF6",
           "radialaxis": {
            "gridcolor": "white",
            "linecolor": "white",
            "ticks": ""
           }
          },
          "scene": {
           "xaxis": {
            "backgroundcolor": "#E5ECF6",
            "gridcolor": "white",
            "gridwidth": 2,
            "linecolor": "white",
            "showbackground": true,
            "ticks": "",
            "zerolinecolor": "white"
           },
           "yaxis": {
            "backgroundcolor": "#E5ECF6",
            "gridcolor": "white",
            "gridwidth": 2,
            "linecolor": "white",
            "showbackground": true,
            "ticks": "",
            "zerolinecolor": "white"
           },
           "zaxis": {
            "backgroundcolor": "#E5ECF6",
            "gridcolor": "white",
            "gridwidth": 2,
            "linecolor": "white",
            "showbackground": true,
            "ticks": "",
            "zerolinecolor": "white"
           }
          },
          "shapedefaults": {
           "line": {
            "color": "#2a3f5f"
           }
          },
          "ternary": {
           "aaxis": {
            "gridcolor": "white",
            "linecolor": "white",
            "ticks": ""
           },
           "baxis": {
            "gridcolor": "white",
            "linecolor": "white",
            "ticks": ""
           },
           "bgcolor": "#E5ECF6",
           "caxis": {
            "gridcolor": "white",
            "linecolor": "white",
            "ticks": ""
           }
          },
          "title": {
           "x": 0.05
          },
          "xaxis": {
           "automargin": true,
           "gridcolor": "white",
           "linecolor": "white",
           "ticks": "",
           "title": {
            "standoff": 15
           },
           "zerolinecolor": "white",
           "zerolinewidth": 2
          },
          "yaxis": {
           "automargin": true,
           "gridcolor": "white",
           "linecolor": "white",
           "ticks": "",
           "title": {
            "standoff": 15
           },
           "zerolinecolor": "white",
           "zerolinewidth": 2
          }
         }
        },
        "title": {
         "text": "Top 10 Products by Reviews"
        },
        "width": 1000,
        "xaxis": {
         "anchor": "y",
         "domain": [
          0,
          1
         ],
         "tickangle": -45,
         "title": {
          "text": "Product"
         }
        },
        "yaxis": {
         "anchor": "x",
         "domain": [
          0,
          1
         ],
         "title": {
          "text": "Number of Reviews"
         }
        }
       }
      }
     },
     "metadata": {},
     "output_type": "display_data"
    }
   ],
   "source": [
    "fig = px.bar(\n",
    "    top10_products,\n",
    "    x=\"Product Name\",\n",
    "    y=\"Reviews\",\n",
    "    title=\"Top 10 Products by Reviews\",\n",
    "    color=\"Reviews\",\n",
    "    color_continuous_scale=\"Greens\",\n",
    "    hover_data={\"Price\": True, \"Rating\": True, \"Discount_percent\": True})\n",
    "\n",
    "fig.update_layout(width=1000,height=1000,xaxis_tickangle=-45,xaxis_title=\"Product\",yaxis_title=\"Number of Reviews\")\n",
    "fig.write_image(\"Top 10 Products by Reviews.png\",scale=2)\n",
    "fig.show()\n"
   ]
  },
  {
   "cell_type": "code",
   "execution_count": null,
   "id": "9920853e-08be-486a-9a5a-f5c627846287",
   "metadata": {},
   "outputs": [],
   "source": []
  }
 ],
 "metadata": {
  "kernelspec": {
   "display_name": "Python 3 (ipykernel)",
   "language": "python",
   "name": "python3"
  },
  "language_info": {
   "codemirror_mode": {
    "name": "ipython",
    "version": 3
   },
   "file_extension": ".py",
   "mimetype": "text/x-python",
   "name": "python",
   "nbconvert_exporter": "python",
   "pygments_lexer": "ipython3",
   "version": "3.13.5"
  }
 },
 "nbformat": 4,
 "nbformat_minor": 5
}
